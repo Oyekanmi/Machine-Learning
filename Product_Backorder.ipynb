{
  "nbformat": 4,
  "nbformat_minor": 0,
  "metadata": {
    "colab": {
      "name": "Product_Backorder.ipynb",
      "provenance": [],
      "collapsed_sections": [],
      "toc_visible": true,
      "include_colab_link": true
    },
    "kernelspec": {
      "display_name": "Python 3",
      "language": "python",
      "name": "python3"
    },
    "language_info": {
      "codemirror_mode": {
        "name": "ipython",
        "version": 3
      },
      "file_extension": ".py",
      "mimetype": "text/x-python",
      "name": "python",
      "nbconvert_exporter": "python",
      "pygments_lexer": "ipython3",
      "version": "3.7.1"
    }
  },
  "cells": [
    {
      "cell_type": "markdown",
      "metadata": {
        "id": "view-in-github",
        "colab_type": "text"
      },
      "source": [
        "<a href=\"https://colab.research.google.com/github/Oyekanmi/Machine-Learning-New/blob/master/Product_Backorder.ipynb\" target=\"_parent\"><img src=\"https://colab.research.google.com/assets/colab-badge.svg\" alt=\"Open In Colab\"/></a>"
      ]
    },
    {
      "cell_type": "markdown",
      "metadata": {
        "id": "fryJL_9un-_r"
      },
      "source": [
        "**Predicting Products Backorder**\n",
        "\n",
        "\n",
        "\n",
        "\n",
        "Material backorder is a common inventory problem in which demands for products cannot be fulfilled due to material or product shortage. Identifying these shortages, when and where before it happens would provide an opportunity for manufacturers to mitigate it, maximize their sales, and overall performance. \n",
        "\n",
        "\n",
        "\n",
        "\n",
        "\n",
        "\n",
        "**Why it is important?**\n",
        "\n",
        "\n",
        "\n",
        "Regular backorders are indications that demand for a product exceeds the supply and the company is losing out on potential opportunities. Also, if a customer noticed that a product or series of products are on backorder regularly, He or She might consider it a high risk to continue doing business with the manufacturer, thereby, leading to order cancellation and a potential drop in sales.\n",
        "\n",
        "\n",
        "\n",
        "\n",
        "**Data Source:** Kaggle"
      ]
    },
    {
      "cell_type": "code",
      "metadata": {
        "id": "bZ6VuqgiDysd"
      },
      "source": [
        "#import libraries\n",
        "import pandas as pd\n",
        "import numpy as np\n",
        "import matplotlib.pyplot as plt\n",
        "import seaborn as sns\n",
        "\n",
        "from sklearn.linear_model import LogisticRegression\n",
        "from sklearn.ensemble import RandomForestClassifier\n",
        "from xgboost import XGBClassifier\n",
        "from sklearn.tree import DecisionTreeClassifier\n",
        "from sklearn.preprocessing import StandardScaler\n",
        "from sklearn.pipeline import make_pipeline\n",
        "from sklearn.compose import make_column_transformer\n",
        "from sklearn.impute import SimpleImputer\n",
        "from sklearn.preprocessing import OneHotEncoder\n",
        "from sklearn.preprocessing import LabelEncoder\n",
        "from sklearn.metrics import roc_auc_score\n",
        "from sklearn.metrics import confusion_matrix,classification_report,plot_confusion_matrix,plot_precision_recall_curve,plot_roc_curve\n",
        "\n",
        "%matplotlib inline "
      ],
      "execution_count": null,
      "outputs": []
    },
    {
      "cell_type": "code",
      "metadata": {
        "colab": {
          "base_uri": "https://localhost:8080/",
          "height": 217
        },
        "id": "j6qQGNKlFIWk",
        "outputId": "a92ebd99-cb42-45d5-a572-6742964fba1a"
      },
      "source": [
        "#read the data\n",
        "order_df = pd.read_csv('Training_Dataset.csv')\n",
        "\n",
        "#view the first five row\n",
        "order_df.head()"
      ],
      "execution_count": null,
      "outputs": [
        {
          "output_type": "execute_result",
          "data": {
            "text/html": [
              "<div>\n",
              "<style scoped>\n",
              "    .dataframe tbody tr th:only-of-type {\n",
              "        vertical-align: middle;\n",
              "    }\n",
              "\n",
              "    .dataframe tbody tr th {\n",
              "        vertical-align: top;\n",
              "    }\n",
              "\n",
              "    .dataframe thead th {\n",
              "        text-align: right;\n",
              "    }\n",
              "</style>\n",
              "<table border=\"1\" class=\"dataframe\">\n",
              "  <thead>\n",
              "    <tr style=\"text-align: right;\">\n",
              "      <th></th>\n",
              "      <th>sku</th>\n",
              "      <th>national_inv</th>\n",
              "      <th>lead_time</th>\n",
              "      <th>in_transit_qty</th>\n",
              "      <th>forecast_3_month</th>\n",
              "      <th>forecast_6_month</th>\n",
              "      <th>forecast_9_month</th>\n",
              "      <th>sales_1_month</th>\n",
              "      <th>sales_3_month</th>\n",
              "      <th>sales_6_month</th>\n",
              "      <th>sales_9_month</th>\n",
              "      <th>min_bank</th>\n",
              "      <th>potential_issue</th>\n",
              "      <th>pieces_past_due</th>\n",
              "      <th>perf_6_month_avg</th>\n",
              "      <th>perf_12_month_avg</th>\n",
              "      <th>local_bo_qty</th>\n",
              "      <th>deck_risk</th>\n",
              "      <th>oe_constraint</th>\n",
              "      <th>ppap_risk</th>\n",
              "      <th>stop_auto_buy</th>\n",
              "      <th>rev_stop</th>\n",
              "      <th>went_on_backorder</th>\n",
              "    </tr>\n",
              "  </thead>\n",
              "  <tbody>\n",
              "    <tr>\n",
              "      <th>0</th>\n",
              "      <td>1026827</td>\n",
              "      <td>0</td>\n",
              "      <td>NaN</td>\n",
              "      <td>0</td>\n",
              "      <td>0</td>\n",
              "      <td>0</td>\n",
              "      <td>0</td>\n",
              "      <td>0</td>\n",
              "      <td>0</td>\n",
              "      <td>0</td>\n",
              "      <td>0</td>\n",
              "      <td>0</td>\n",
              "      <td>No</td>\n",
              "      <td>0</td>\n",
              "      <td>-99.00</td>\n",
              "      <td>-99.00</td>\n",
              "      <td>0</td>\n",
              "      <td>No</td>\n",
              "      <td>No</td>\n",
              "      <td>No</td>\n",
              "      <td>Yes</td>\n",
              "      <td>No</td>\n",
              "      <td>No</td>\n",
              "    </tr>\n",
              "    <tr>\n",
              "      <th>1</th>\n",
              "      <td>1043384</td>\n",
              "      <td>2</td>\n",
              "      <td>9.0</td>\n",
              "      <td>0</td>\n",
              "      <td>0</td>\n",
              "      <td>0</td>\n",
              "      <td>0</td>\n",
              "      <td>0</td>\n",
              "      <td>0</td>\n",
              "      <td>0</td>\n",
              "      <td>0</td>\n",
              "      <td>0</td>\n",
              "      <td>No</td>\n",
              "      <td>0</td>\n",
              "      <td>0.99</td>\n",
              "      <td>0.99</td>\n",
              "      <td>0</td>\n",
              "      <td>No</td>\n",
              "      <td>No</td>\n",
              "      <td>No</td>\n",
              "      <td>Yes</td>\n",
              "      <td>No</td>\n",
              "      <td>No</td>\n",
              "    </tr>\n",
              "    <tr>\n",
              "      <th>2</th>\n",
              "      <td>1043696</td>\n",
              "      <td>2</td>\n",
              "      <td>NaN</td>\n",
              "      <td>0</td>\n",
              "      <td>0</td>\n",
              "      <td>0</td>\n",
              "      <td>0</td>\n",
              "      <td>0</td>\n",
              "      <td>0</td>\n",
              "      <td>0</td>\n",
              "      <td>0</td>\n",
              "      <td>0</td>\n",
              "      <td>No</td>\n",
              "      <td>0</td>\n",
              "      <td>-99.00</td>\n",
              "      <td>-99.00</td>\n",
              "      <td>0</td>\n",
              "      <td>Yes</td>\n",
              "      <td>No</td>\n",
              "      <td>No</td>\n",
              "      <td>Yes</td>\n",
              "      <td>No</td>\n",
              "      <td>No</td>\n",
              "    </tr>\n",
              "    <tr>\n",
              "      <th>3</th>\n",
              "      <td>1043852</td>\n",
              "      <td>7</td>\n",
              "      <td>8.0</td>\n",
              "      <td>0</td>\n",
              "      <td>0</td>\n",
              "      <td>0</td>\n",
              "      <td>0</td>\n",
              "      <td>0</td>\n",
              "      <td>0</td>\n",
              "      <td>0</td>\n",
              "      <td>0</td>\n",
              "      <td>1</td>\n",
              "      <td>No</td>\n",
              "      <td>0</td>\n",
              "      <td>0.10</td>\n",
              "      <td>0.13</td>\n",
              "      <td>0</td>\n",
              "      <td>No</td>\n",
              "      <td>No</td>\n",
              "      <td>No</td>\n",
              "      <td>Yes</td>\n",
              "      <td>No</td>\n",
              "      <td>No</td>\n",
              "    </tr>\n",
              "    <tr>\n",
              "      <th>4</th>\n",
              "      <td>1044048</td>\n",
              "      <td>8</td>\n",
              "      <td>NaN</td>\n",
              "      <td>0</td>\n",
              "      <td>0</td>\n",
              "      <td>0</td>\n",
              "      <td>0</td>\n",
              "      <td>0</td>\n",
              "      <td>0</td>\n",
              "      <td>0</td>\n",
              "      <td>4</td>\n",
              "      <td>2</td>\n",
              "      <td>No</td>\n",
              "      <td>0</td>\n",
              "      <td>-99.00</td>\n",
              "      <td>-99.00</td>\n",
              "      <td>0</td>\n",
              "      <td>Yes</td>\n",
              "      <td>No</td>\n",
              "      <td>No</td>\n",
              "      <td>Yes</td>\n",
              "      <td>No</td>\n",
              "      <td>No</td>\n",
              "    </tr>\n",
              "  </tbody>\n",
              "</table>\n",
              "</div>"
            ],
            "text/plain": [
              "       sku  national_inv  lead_time  ...  stop_auto_buy  rev_stop  went_on_backorder\n",
              "0  1026827             0        NaN  ...            Yes        No                 No\n",
              "1  1043384             2        9.0  ...            Yes        No                 No\n",
              "2  1043696             2        NaN  ...            Yes        No                 No\n",
              "3  1043852             7        8.0  ...            Yes        No                 No\n",
              "4  1044048             8        NaN  ...            Yes        No                 No\n",
              "\n",
              "[5 rows x 23 columns]"
            ]
          },
          "metadata": {
            "tags": []
          },
          "execution_count": 2
        }
      ]
    },
    {
      "cell_type": "code",
      "metadata": {
        "colab": {
          "base_uri": "https://localhost:8080/"
        },
        "id": "GDLVyK4XSVRz",
        "outputId": "be895155-b444-4aaa-c512-4c4cd8e93cee"
      },
      "source": [
        "#check the size of the dataset\n",
        "order_df.shape"
      ],
      "execution_count": null,
      "outputs": [
        {
          "output_type": "execute_result",
          "data": {
            "text/plain": [
              "(1048575, 23)"
            ]
          },
          "metadata": {
            "tags": []
          },
          "execution_count": 3
        }
      ]
    },
    {
      "cell_type": "code",
      "metadata": {
        "colab": {
          "base_uri": "https://localhost:8080/",
          "height": 217
        },
        "id": "6vHBzNMtFXDw",
        "outputId": "d0c311c4-9ca2-4dc4-9f0c-4c27c5cd6ca5"
      },
      "source": [
        "#drop the 'sku' column since it's not useful in this situaton\n",
        "product_order = order_df.drop(labels=['sku'], axis=1)\n",
        "product_order.head()"
      ],
      "execution_count": null,
      "outputs": [
        {
          "output_type": "execute_result",
          "data": {
            "text/html": [
              "<div>\n",
              "<style scoped>\n",
              "    .dataframe tbody tr th:only-of-type {\n",
              "        vertical-align: middle;\n",
              "    }\n",
              "\n",
              "    .dataframe tbody tr th {\n",
              "        vertical-align: top;\n",
              "    }\n",
              "\n",
              "    .dataframe thead th {\n",
              "        text-align: right;\n",
              "    }\n",
              "</style>\n",
              "<table border=\"1\" class=\"dataframe\">\n",
              "  <thead>\n",
              "    <tr style=\"text-align: right;\">\n",
              "      <th></th>\n",
              "      <th>national_inv</th>\n",
              "      <th>lead_time</th>\n",
              "      <th>in_transit_qty</th>\n",
              "      <th>forecast_3_month</th>\n",
              "      <th>forecast_6_month</th>\n",
              "      <th>forecast_9_month</th>\n",
              "      <th>sales_1_month</th>\n",
              "      <th>sales_3_month</th>\n",
              "      <th>sales_6_month</th>\n",
              "      <th>sales_9_month</th>\n",
              "      <th>min_bank</th>\n",
              "      <th>potential_issue</th>\n",
              "      <th>pieces_past_due</th>\n",
              "      <th>perf_6_month_avg</th>\n",
              "      <th>perf_12_month_avg</th>\n",
              "      <th>local_bo_qty</th>\n",
              "      <th>deck_risk</th>\n",
              "      <th>oe_constraint</th>\n",
              "      <th>ppap_risk</th>\n",
              "      <th>stop_auto_buy</th>\n",
              "      <th>rev_stop</th>\n",
              "      <th>went_on_backorder</th>\n",
              "    </tr>\n",
              "  </thead>\n",
              "  <tbody>\n",
              "    <tr>\n",
              "      <th>0</th>\n",
              "      <td>0</td>\n",
              "      <td>NaN</td>\n",
              "      <td>0</td>\n",
              "      <td>0</td>\n",
              "      <td>0</td>\n",
              "      <td>0</td>\n",
              "      <td>0</td>\n",
              "      <td>0</td>\n",
              "      <td>0</td>\n",
              "      <td>0</td>\n",
              "      <td>0</td>\n",
              "      <td>No</td>\n",
              "      <td>0</td>\n",
              "      <td>-99.00</td>\n",
              "      <td>-99.00</td>\n",
              "      <td>0</td>\n",
              "      <td>No</td>\n",
              "      <td>No</td>\n",
              "      <td>No</td>\n",
              "      <td>Yes</td>\n",
              "      <td>No</td>\n",
              "      <td>No</td>\n",
              "    </tr>\n",
              "    <tr>\n",
              "      <th>1</th>\n",
              "      <td>2</td>\n",
              "      <td>9.0</td>\n",
              "      <td>0</td>\n",
              "      <td>0</td>\n",
              "      <td>0</td>\n",
              "      <td>0</td>\n",
              "      <td>0</td>\n",
              "      <td>0</td>\n",
              "      <td>0</td>\n",
              "      <td>0</td>\n",
              "      <td>0</td>\n",
              "      <td>No</td>\n",
              "      <td>0</td>\n",
              "      <td>0.99</td>\n",
              "      <td>0.99</td>\n",
              "      <td>0</td>\n",
              "      <td>No</td>\n",
              "      <td>No</td>\n",
              "      <td>No</td>\n",
              "      <td>Yes</td>\n",
              "      <td>No</td>\n",
              "      <td>No</td>\n",
              "    </tr>\n",
              "    <tr>\n",
              "      <th>2</th>\n",
              "      <td>2</td>\n",
              "      <td>NaN</td>\n",
              "      <td>0</td>\n",
              "      <td>0</td>\n",
              "      <td>0</td>\n",
              "      <td>0</td>\n",
              "      <td>0</td>\n",
              "      <td>0</td>\n",
              "      <td>0</td>\n",
              "      <td>0</td>\n",
              "      <td>0</td>\n",
              "      <td>No</td>\n",
              "      <td>0</td>\n",
              "      <td>-99.00</td>\n",
              "      <td>-99.00</td>\n",
              "      <td>0</td>\n",
              "      <td>Yes</td>\n",
              "      <td>No</td>\n",
              "      <td>No</td>\n",
              "      <td>Yes</td>\n",
              "      <td>No</td>\n",
              "      <td>No</td>\n",
              "    </tr>\n",
              "    <tr>\n",
              "      <th>3</th>\n",
              "      <td>7</td>\n",
              "      <td>8.0</td>\n",
              "      <td>0</td>\n",
              "      <td>0</td>\n",
              "      <td>0</td>\n",
              "      <td>0</td>\n",
              "      <td>0</td>\n",
              "      <td>0</td>\n",
              "      <td>0</td>\n",
              "      <td>0</td>\n",
              "      <td>1</td>\n",
              "      <td>No</td>\n",
              "      <td>0</td>\n",
              "      <td>0.10</td>\n",
              "      <td>0.13</td>\n",
              "      <td>0</td>\n",
              "      <td>No</td>\n",
              "      <td>No</td>\n",
              "      <td>No</td>\n",
              "      <td>Yes</td>\n",
              "      <td>No</td>\n",
              "      <td>No</td>\n",
              "    </tr>\n",
              "    <tr>\n",
              "      <th>4</th>\n",
              "      <td>8</td>\n",
              "      <td>NaN</td>\n",
              "      <td>0</td>\n",
              "      <td>0</td>\n",
              "      <td>0</td>\n",
              "      <td>0</td>\n",
              "      <td>0</td>\n",
              "      <td>0</td>\n",
              "      <td>0</td>\n",
              "      <td>4</td>\n",
              "      <td>2</td>\n",
              "      <td>No</td>\n",
              "      <td>0</td>\n",
              "      <td>-99.00</td>\n",
              "      <td>-99.00</td>\n",
              "      <td>0</td>\n",
              "      <td>Yes</td>\n",
              "      <td>No</td>\n",
              "      <td>No</td>\n",
              "      <td>Yes</td>\n",
              "      <td>No</td>\n",
              "      <td>No</td>\n",
              "    </tr>\n",
              "  </tbody>\n",
              "</table>\n",
              "</div>"
            ],
            "text/plain": [
              "   national_inv  lead_time  ...  rev_stop  went_on_backorder\n",
              "0             0        NaN  ...        No                 No\n",
              "1             2        9.0  ...        No                 No\n",
              "2             2        NaN  ...        No                 No\n",
              "3             7        8.0  ...        No                 No\n",
              "4             8        NaN  ...        No                 No\n",
              "\n",
              "[5 rows x 22 columns]"
            ]
          },
          "metadata": {
            "tags": []
          },
          "execution_count": 4
        }
      ]
    },
    {
      "cell_type": "code",
      "metadata": {
        "id": "qkmlVUMYIvWK"
      },
      "source": [
        "#split into feature and response set\n",
        "X= product_order.loc[:, :'rev_stop']        \n",
        "y = product_order.loc[:,'went_on_backorder']"
      ],
      "execution_count": null,
      "outputs": []
    },
    {
      "cell_type": "markdown",
      "metadata": {
        "id": "6MwFLtei0SX9"
      },
      "source": [
        "**Split the dataset into training and testing set**"
      ]
    },
    {
      "cell_type": "code",
      "metadata": {
        "id": "AOPI1JY1G8B5"
      },
      "source": [
        "#First divide the data into training and testing \n",
        "#Since we have a relatively large dataset, we can afford to split using the 80:20 training and testing\n",
        "#note : we stratify the split because of the uneven class distribution\n",
        "from sklearn.model_selection import train_test_split\n",
        "X_train, X_test, y_train, y_test = train_test_split(X, y, test_size=0.2,stratify=y, random_state=0)"
      ],
      "execution_count": null,
      "outputs": []
    },
    {
      "cell_type": "code",
      "metadata": {
        "colab": {
          "base_uri": "https://localhost:8080/"
        },
        "id": "7pud9fj1HX_n",
        "outputId": "74873b82-78e4-44e2-e885-0c1b9ff74e2e"
      },
      "source": [
        "#verify the size of the training and testing dataset\n",
        "print( f'Training size : {X_train.shape}')\n",
        "print( f'Testing size : {X_test.shape}')\n",
        "\n",
        "print('\\n')\n",
        "\n",
        "print( f'Training size : {y_train.shape}')\n",
        "print( f'Testing size : {y_test.shape}')"
      ],
      "execution_count": null,
      "outputs": [
        {
          "output_type": "stream",
          "text": [
            "Training size : (838860, 21)\n",
            "Testing size : (209715, 21)\n",
            "\n",
            "\n",
            "Training size : (838860,)\n",
            "Testing size : (209715,)\n"
          ],
          "name": "stdout"
        }
      ]
    },
    {
      "cell_type": "code",
      "metadata": {
        "colab": {
          "base_uri": "https://localhost:8080/"
        },
        "id": "kaI0f5V9LrC-",
        "outputId": "813af0af-337a-42f1-8291-064b67c641a6"
      },
      "source": [
        "#check for missing values in the training dataset\n",
        "X_train.isna().sum()  "
      ],
      "execution_count": null,
      "outputs": [
        {
          "output_type": "execute_result",
          "data": {
            "text/plain": [
              "national_inv             0\n",
              "lead_time            51671\n",
              "in_transit_qty           0\n",
              "forecast_3_month         0\n",
              "forecast_6_month         0\n",
              "forecast_9_month         0\n",
              "sales_1_month            0\n",
              "sales_3_month            0\n",
              "sales_6_month            0\n",
              "sales_9_month            0\n",
              "min_bank                 0\n",
              "potential_issue          0\n",
              "pieces_past_due          0\n",
              "perf_6_month_avg         0\n",
              "perf_12_month_avg        0\n",
              "local_bo_qty             0\n",
              "deck_risk                0\n",
              "oe_constraint            0\n",
              "ppap_risk                0\n",
              "stop_auto_buy            0\n",
              "rev_stop                 0\n",
              "dtype: int64"
            ]
          },
          "metadata": {
            "tags": []
          },
          "execution_count": 8
        }
      ]
    },
    {
      "cell_type": "markdown",
      "metadata": {
        "id": "asN7sms5esfV"
      },
      "source": [
        "**Comment:** The training dataset has obver 51,671 missing values . How do we input missing ? "
      ]
    },
    {
      "cell_type": "code",
      "metadata": {
        "colab": {
          "base_uri": "https://localhost:8080/",
          "height": 424
        },
        "id": "VcnAd55ra2KV",
        "outputId": "e275a0cc-b16a-4ff4-86a5-b5f52c9a5f90"
      },
      "source": [
        "#Let's visualize the class distribution\n",
        "#set figure size\n",
        "sns.set(rc={'figure.figsize':(8,6)})   \n",
        "#Let's check the distribution of the dataset\n",
        "b=y_train.value_counts(normalize=True).plot(kind='bar')\n",
        "b.set_xlabel(\"went on backorder\", fontsize=20)\n",
        "b.set_ylabel(\"count in %\", fontsize=20)"
      ],
      "execution_count": null,
      "outputs": [
        {
          "output_type": "execute_result",
          "data": {
            "text/plain": [
              "Text(0, 0.5, 'count in %')"
            ]
          },
          "metadata": {
            "tags": []
          },
          "execution_count": 9
        },
        {
          "output_type": "display_data",
          "data": {
            "image/png": "[encoded data removed]",
            "text/plain": [
              "<Figure size 576x432 with 1 Axes>"
            ]
          },
          "metadata": {
            "tags": []
          }
        }
      ]
    },
    {
      "cell_type": "markdown",
      "metadata": {
        "id": "YTVUOVpLPvHK"
      },
      "source": [
        "**Comment** : Only less than 1% of the observations / products is on backorder. This is an imbalance class problem with a ratio of about 1:100 for product that went on backorder against products that did not"
      ]
    },
    {
      "cell_type": "markdown",
      "metadata": {
        "id": "Z6pGwPtFD1vo"
      },
      "source": [
        "**Get the categorical and numerical columns**"
      ]
    },
    {
      "cell_type": "code",
      "metadata": {
        "id": "lFFa0aWZU2Lx"
      },
      "source": [
        "#extract numerical columns\n",
        "categorical_col = [col for col in X_train.columns if X_train[col].dtypes =='object']   \n",
        "\n",
        "#extract categorical columns\n",
        "numerical_col = list( set(X_train.columns)- set(categorical_col))  "
      ],
      "execution_count": null,
      "outputs": []
    },
    {
      "cell_type": "code",
      "metadata": {
        "colab": {
          "base_uri": "https://localhost:8080/"
        },
        "id": "QpOPoqO8nHwi",
        "outputId": "c2b7ae08-0e77-41dd-df21-e05415dab0cd"
      },
      "source": [
        "#display the numerical columns and categorical columns\n",
        "#This will be useful in subsequent cells\n",
        "print(f'numerical columns : {numerical_col}')\n",
        "print(f'categorical columns : {categorical_col}')"
      ],
      "execution_count": null,
      "outputs": [
        {
          "output_type": "stream",
          "text": [
            "numerical columns : ['pieces_past_due', 'lead_time', 'local_bo_qty', 'min_bank', 'forecast_3_month', 'in_transit_qty', 'perf_12_month_avg', 'perf_6_month_avg', 'sales_3_month', 'forecast_6_month', 'sales_1_month', 'national_inv', 'forecast_9_month', 'sales_6_month', 'sales_9_month']\n",
            "categorical columns : ['potential_issue', 'deck_risk', 'oe_constraint', 'ppap_risk', 'stop_auto_buy', 'rev_stop']\n"
          ],
          "name": "stdout"
        }
      ]
    },
    {
      "cell_type": "markdown",
      "metadata": {
        "id": "QcN1OLHxdmDB"
      },
      "source": [
        "**Preprocessing of Training Data**\n"
      ]
    },
    {
      "cell_type": "markdown",
      "metadata": {
        "id": "GrtX5WDsE8Xi"
      },
      "source": [
        "**Data Imputation**\n",
        "\n",
        "\n",
        "The dataset has series of missing values . It begged a question of what is the best method to impute the missing values ? A good approach is to check for the distribution of the column with missing values"
      ]
    },
    {
      "cell_type": "markdown",
      "metadata": {
        "id": "76rc8D-_yW4Z"
      },
      "source": [
        "**Check for the distribution of the dataset in column 'lead time'**"
      ]
    },
    {
      "cell_type": "code",
      "metadata": {
        "colab": {
          "base_uri": "https://localhost:8080/",
          "height": 498
        },
        "id": "JUUFkVF8yesm",
        "outputId": "34921cd7-a92a-4d9b-84cb-f25231f7dce9"
      },
      "source": [
        "#plot an histogram to visualize the distribution of values in lead_time column\n",
        "plt.hist(X_train.lead_time.values)\n",
        "plt.xlabel('Lead Time')\n",
        "plt.ylabel('Count')\n",
        "plt.title('Distribution of the Lead Time column' )"
      ],
      "execution_count": null,
      "outputs": [
        {
          "output_type": "stream",
          "text": [
            "/usr/local/lib/python3.6/dist-packages/numpy/lib/histograms.py:839: RuntimeWarning: invalid value encountered in greater_equal\n",
            "  keep = (tmp_a >= first_edge)\n",
            "/usr/local/lib/python3.6/dist-packages/numpy/lib/histograms.py:840: RuntimeWarning: invalid value encountered in less_equal\n",
            "  keep &= (tmp_a <= last_edge)\n"
          ],
          "name": "stderr"
        },
        {
          "output_type": "execute_result",
          "data": {
            "text/plain": [
              "Text(0.5, 1.0, 'Distribution of the Lead Time column')"
            ]
          },
          "metadata": {
            "tags": []
          },
          "execution_count": 12
        },
        {
          "output_type": "display_data",
          "data": {
            "image/png": "[encoded data removed]",
            "text/plain": [
              "<Figure size 576x432 with 1 Axes>"
            ]
          },
          "metadata": {
            "tags": []
          }
        }
      ]
    },
    {
      "cell_type": "markdown",
      "metadata": {
        "id": "AMkvQ5cJzoX6"
      },
      "source": [
        "**Comment:** From the histogram above, the distribution of the lead time data is skewed to the right. The common form of imputation is with the mean value of the columns with missing values in the training set. However, in this case, as seen in the histogram above, the dataset is skewed to the right and imputation with the mean might affect the distribution. Hence,the preferred approach is to replace the missing values with the median. "
      ]
    },
    {
      "cell_type": "code",
      "metadata": {
        "colab": {
          "base_uri": "https://localhost:8080/",
          "height": 217
        },
        "id": "iDfFX1Q4yZYI",
        "outputId": "92db0476-5a44-4fe4-bbbe-d1b46023a567"
      },
      "source": [
        "#fill missing value with mean\n",
        "X_train_filled = X_train.fillna(X_train['lead_time'].median())\n",
        "X_train_filled.head()"
      ],
      "execution_count": null,
      "outputs": [
        {
          "output_type": "execute_result",
          "data": {
            "text/html": [
              "<div>\n",
              "<style scoped>\n",
              "    .dataframe tbody tr th:only-of-type {\n",
              "        vertical-align: middle;\n",
              "    }\n",
              "\n",
              "    .dataframe tbody tr th {\n",
              "        vertical-align: top;\n",
              "    }\n",
              "\n",
              "    .dataframe thead th {\n",
              "        text-align: right;\n",
              "    }\n",
              "</style>\n",
              "<table border=\"1\" class=\"dataframe\">\n",
              "  <thead>\n",
              "    <tr style=\"text-align: right;\">\n",
              "      <th></th>\n",
              "      <th>national_inv</th>\n",
              "      <th>lead_time</th>\n",
              "      <th>in_transit_qty</th>\n",
              "      <th>forecast_3_month</th>\n",
              "      <th>forecast_6_month</th>\n",
              "      <th>forecast_9_month</th>\n",
              "      <th>sales_1_month</th>\n",
              "      <th>sales_3_month</th>\n",
              "      <th>sales_6_month</th>\n",
              "      <th>sales_9_month</th>\n",
              "      <th>min_bank</th>\n",
              "      <th>potential_issue</th>\n",
              "      <th>pieces_past_due</th>\n",
              "      <th>perf_6_month_avg</th>\n",
              "      <th>perf_12_month_avg</th>\n",
              "      <th>local_bo_qty</th>\n",
              "      <th>deck_risk</th>\n",
              "      <th>oe_constraint</th>\n",
              "      <th>ppap_risk</th>\n",
              "      <th>stop_auto_buy</th>\n",
              "      <th>rev_stop</th>\n",
              "    </tr>\n",
              "  </thead>\n",
              "  <tbody>\n",
              "    <tr>\n",
              "      <th>719765</th>\n",
              "      <td>3</td>\n",
              "      <td>6.0</td>\n",
              "      <td>0</td>\n",
              "      <td>0</td>\n",
              "      <td>0</td>\n",
              "      <td>0</td>\n",
              "      <td>0</td>\n",
              "      <td>0</td>\n",
              "      <td>1</td>\n",
              "      <td>3</td>\n",
              "      <td>0</td>\n",
              "      <td>No</td>\n",
              "      <td>0</td>\n",
              "      <td>0.79</td>\n",
              "      <td>0.66</td>\n",
              "      <td>0</td>\n",
              "      <td>No</td>\n",
              "      <td>No</td>\n",
              "      <td>No</td>\n",
              "      <td>Yes</td>\n",
              "      <td>No</td>\n",
              "    </tr>\n",
              "    <tr>\n",
              "      <th>984611</th>\n",
              "      <td>5</td>\n",
              "      <td>9.0</td>\n",
              "      <td>0</td>\n",
              "      <td>0</td>\n",
              "      <td>0</td>\n",
              "      <td>0</td>\n",
              "      <td>0</td>\n",
              "      <td>0</td>\n",
              "      <td>0</td>\n",
              "      <td>0</td>\n",
              "      <td>0</td>\n",
              "      <td>No</td>\n",
              "      <td>0</td>\n",
              "      <td>0.68</td>\n",
              "      <td>0.66</td>\n",
              "      <td>0</td>\n",
              "      <td>Yes</td>\n",
              "      <td>No</td>\n",
              "      <td>No</td>\n",
              "      <td>Yes</td>\n",
              "      <td>No</td>\n",
              "    </tr>\n",
              "    <tr>\n",
              "      <th>848050</th>\n",
              "      <td>0</td>\n",
              "      <td>8.0</td>\n",
              "      <td>0</td>\n",
              "      <td>0</td>\n",
              "      <td>0</td>\n",
              "      <td>0</td>\n",
              "      <td>0</td>\n",
              "      <td>0</td>\n",
              "      <td>0</td>\n",
              "      <td>0</td>\n",
              "      <td>0</td>\n",
              "      <td>No</td>\n",
              "      <td>0</td>\n",
              "      <td>0.62</td>\n",
              "      <td>0.52</td>\n",
              "      <td>0</td>\n",
              "      <td>No</td>\n",
              "      <td>No</td>\n",
              "      <td>Yes</td>\n",
              "      <td>Yes</td>\n",
              "      <td>No</td>\n",
              "    </tr>\n",
              "    <tr>\n",
              "      <th>427426</th>\n",
              "      <td>4</td>\n",
              "      <td>8.0</td>\n",
              "      <td>0</td>\n",
              "      <td>0</td>\n",
              "      <td>0</td>\n",
              "      <td>0</td>\n",
              "      <td>0</td>\n",
              "      <td>0</td>\n",
              "      <td>0</td>\n",
              "      <td>1</td>\n",
              "      <td>0</td>\n",
              "      <td>No</td>\n",
              "      <td>0</td>\n",
              "      <td>0.79</td>\n",
              "      <td>0.66</td>\n",
              "      <td>0</td>\n",
              "      <td>No</td>\n",
              "      <td>No</td>\n",
              "      <td>No</td>\n",
              "      <td>Yes</td>\n",
              "      <td>No</td>\n",
              "    </tr>\n",
              "    <tr>\n",
              "      <th>21506</th>\n",
              "      <td>587</td>\n",
              "      <td>8.0</td>\n",
              "      <td>0</td>\n",
              "      <td>0</td>\n",
              "      <td>0</td>\n",
              "      <td>0</td>\n",
              "      <td>0</td>\n",
              "      <td>0</td>\n",
              "      <td>1</td>\n",
              "      <td>1</td>\n",
              "      <td>0</td>\n",
              "      <td>No</td>\n",
              "      <td>0</td>\n",
              "      <td>-99.00</td>\n",
              "      <td>-99.00</td>\n",
              "      <td>0</td>\n",
              "      <td>Yes</td>\n",
              "      <td>No</td>\n",
              "      <td>Yes</td>\n",
              "      <td>Yes</td>\n",
              "      <td>No</td>\n",
              "    </tr>\n",
              "  </tbody>\n",
              "</table>\n",
              "</div>"
            ],
            "text/plain": [
              "        national_inv  lead_time  ...  stop_auto_buy  rev_stop\n",
              "719765             3        6.0  ...            Yes        No\n",
              "984611             5        9.0  ...            Yes        No\n",
              "848050             0        8.0  ...            Yes        No\n",
              "427426             4        8.0  ...            Yes        No\n",
              "21506            587        8.0  ...            Yes        No\n",
              "\n",
              "[5 rows x 21 columns]"
            ]
          },
          "metadata": {
            "tags": []
          },
          "execution_count": 13
        }
      ]
    },
    {
      "cell_type": "markdown",
      "metadata": {
        "id": "viSBVq1FFMiG"
      },
      "source": [
        "**Convert categorical to dummies and Scale numerical features**"
      ]
    },
    {
      "cell_type": "code",
      "metadata": {
        "id": "sTJr_0pE2doX"
      },
      "source": [
        "#Initiate One Hot Encoder categorical column to dummies \n",
        "ohe = OneHotEncoder(handle_unknown='ignore') \n",
        "\n",
        "#initiate feature scaling object\n",
        "feature_scaling = StandardScaler()       \n",
        "\n",
        "# The response variable is in {'yes', 'no'}. We have to convert to numerical features \n",
        "#This code encodes class [ went on backorder or not] values as integers of 0 and 1\n",
        "le = LabelEncoder()\n",
        "label_encoded_y_train= le.fit_transform(y_train)"
      ],
      "execution_count": null,
      "outputs": []
    },
    {
      "cell_type": "markdown",
      "metadata": {
        "id": "fiJIpCEyeO6G"
      },
      "source": [
        "**Build a pipeline of preprocessing step :** \n",
        "\n",
        "To ensure the code is more readable and prevent data leakage, we will build a pipeline of preprocessing steps. This pipeline has two steps (transformers) : first step will convert categorical features to dummies using the OneHotEncoder object and the second step uses StandardScaler() to scale the numerical features so that it will have a mean value of zero and standard deviation of 1.\n"
      ]
    },
    {
      "cell_type": "code",
      "metadata": {
        "id": "3EWpIqYZWitf"
      },
      "source": [
        "#This is a pipeline of preprocessing transformers: The first one converts to dummies and the second one scales numerical features\n",
        "ct = make_column_transformer((ohe,categorical_col),(feature_scaling, numerical_col ), remainder='passthrough')  #ct is a transformer\n",
        "\n",
        "#Encode categorical features as integers, impute missing values and scale\n",
        "X_train_preprocessed = ct.fit_transform(X_train_filled)"
      ],
      "execution_count": null,
      "outputs": []
    },
    {
      "cell_type": "markdown",
      "metadata": {
        "id": "QV1EJ-Myeo4K"
      },
      "source": [
        "**Let's visualize the preprocessed training data**\n",
        "\n",
        "The data is of high dimension. We first reduce the dimension to 2 principal components using PCA so we can visualize the data"
      ]
    },
    {
      "cell_type": "code",
      "metadata": {
        "colab": {
          "base_uri": "https://localhost:8080/"
        },
        "id": "BQ-hok_A800w",
        "outputId": "321a4246-d4e6-4946-b04d-4c5a2266e46c"
      },
      "source": [
        "#Retrieve the first two principal components\n",
        "from sklearn.decomposition import PCA\n",
        "pca = PCA(n_components=2)  \n",
        "X_train_pca = pca.fit_transform(X_train_preprocessed)  \n",
        "\n",
        "#concatenate the two principal components with their labels\n",
        "Top2_principal_component_and_label = np.concatenate((X_train_pca,label_encoded_y_train.reshape(-1,1)), axis=1)   \n",
        "Top2_principal_component_and_label"
      ],
      "execution_count": null,
      "outputs": [
        {
          "output_type": "execute_result",
          "data": {
            "text/plain": [
              "array([[-0.10055438, -0.46783788,  0.        ],\n",
              "       [-0.10868022, -0.25944886,  0.        ],\n",
              "       [-0.1025187 , -0.4150185 ,  0.        ],\n",
              "       ...,\n",
              "       [-0.09786616, -0.43230225,  1.        ],\n",
              "       [-0.09984969, -0.45783119,  0.        ],\n",
              "       [-0.1084719 , -0.26650435,  0.        ]])"
            ]
          },
          "metadata": {
            "tags": []
          },
          "execution_count": 16
        }
      ]
    },
    {
      "cell_type": "code",
      "metadata": {
        "colab": {
          "base_uri": "https://localhost:8080/",
          "height": 492
        },
        "id": "6Xuj5h-i5Pq6",
        "outputId": "602d3f1e-82d7-4f37-af78-45b84274bd26"
      },
      "source": [
        "#view the first two principal components\n",
        "sns.set(rc={'figure.figsize':(12,6)})   #set figure size\n",
        "sns.scatterplot(Top2_principal_component_and_label[:,0], Top2_principal_component_and_label[:,1], hue= Top2_principal_component_and_label[:,2] )  #[:10000]  [:10000]\n",
        "plt.xlabel(\"PC1\", size=12)\n",
        "plt.ylabel(\"PC2\", size=16)\n",
        "plt.title(\"Principal Component 1 vs Principal Component 2\", size=24)"
      ],
      "execution_count": null,
      "outputs": [
        {
          "output_type": "stream",
          "text": [
            "/usr/local/lib/python3.6/dist-packages/seaborn/_decorators.py:43: FutureWarning: Pass the following variables as keyword args: x, y. From version 0.12, the only valid positional argument will be `data`, and passing other arguments without an explicit keyword will result in an error or misinterpretation.\n",
            "  FutureWarning\n"
          ],
          "name": "stderr"
        },
        {
          "output_type": "execute_result",
          "data": {
            "text/plain": [
              "Text(0.5, 1.0, 'Principal Component 1 vs Principal Component 2')"
            ]
          },
          "metadata": {
            "tags": []
          },
          "execution_count": 17
        },
        {
          "output_type": "display_data",
          "data": {
            "image/png": "[encoded data removed]",
            "text/plain": [
              "<Figure size 864x432 with 1 Axes>"
            ]
          },
          "metadata": {
            "tags": []
          }
        }
      ]
    },
    {
      "cell_type": "markdown",
      "metadata": {
        "id": "aDhiJ3wD3iIO"
      },
      "source": [
        "**Preprocess the Test Set**"
      ]
    },
    {
      "cell_type": "code",
      "metadata": {
        "colab": {
          "base_uri": "https://localhost:8080/"
        },
        "id": "RzaLGsqy4KPO",
        "outputId": "0da1e541-bfd2-4246-daa5-69281ead0720"
      },
      "source": [
        "#check for missing values in the testing data\n",
        "X_test.isna().sum()"
      ],
      "execution_count": null,
      "outputs": [
        {
          "output_type": "execute_result",
          "data": {
            "text/plain": [
              "national_inv             0\n",
              "lead_time            12847\n",
              "in_transit_qty           0\n",
              "forecast_3_month         0\n",
              "forecast_6_month         0\n",
              "forecast_9_month         0\n",
              "sales_1_month            0\n",
              "sales_3_month            0\n",
              "sales_6_month            0\n",
              "sales_9_month            0\n",
              "min_bank                 0\n",
              "potential_issue          0\n",
              "pieces_past_due          0\n",
              "perf_6_month_avg         0\n",
              "perf_12_month_avg        0\n",
              "local_bo_qty             0\n",
              "deck_risk                0\n",
              "oe_constraint            0\n",
              "ppap_risk                0\n",
              "stop_auto_buy            0\n",
              "rev_stop                 0\n",
              "dtype: int64"
            ]
          },
          "metadata": {
            "tags": []
          },
          "execution_count": 18
        }
      ]
    },
    {
      "cell_type": "markdown",
      "metadata": {
        "id": "uX4yaAFk4YGq"
      },
      "source": [
        "**Comment:** The test data has 12,847 missing values. Since the data distribution of the column with the missing is skewed , the first feasible technique would be to try the median."
      ]
    },
    {
      "cell_type": "code",
      "metadata": {
        "id": "o17pBitisZGE"
      },
      "source": [
        "#fill the missing value with the median of the training \n",
        "#Note: We filled with the median of training to prevent data leakage i.e. We assume the test set is a dataset that hasn't been \n",
        "#seen before. So the imputation is done with the median of the training data\n",
        "X_test_filled_missing =X_test.fillna(X_train['lead_time'].median())\n",
        "X_test_filled_missing.head()\n",
        "\n",
        "#Convert the categorical columns to dummies and scale the numerical features using the previously defined column transformer\n",
        "X_test_preprocessed = ct.transform(X_test_filled_missing)\n",
        "\n",
        "#Encode class [went on backorder or not] values as integers of 0 and 1\n",
        "label_encoded_y_test = le.transform(y_test)"
      ],
      "execution_count": null,
      "outputs": []
    },
    {
      "cell_type": "markdown",
      "metadata": {
        "id": "hoZwfNQRRWfo"
      },
      "source": [
        ""
      ]
    },
    {
      "cell_type": "markdown",
      "metadata": {
        "id": "WhYer6x7RWpD"
      },
      "source": [
        "**Model Building**"
      ]
    },
    {
      "cell_type": "markdown",
      "metadata": {
        "id": "VTRq-6KINGD6"
      },
      "source": [
        "We will apply the Stratified K-Fold technique here with cv=5. This is important because of the wide margin of uneven classes. This will split the X_train datset into 5 folds using 4 random folds for training and the last one for testing. This helps in model generalization and prevents overfitting"
      ]
    },
    {
      "cell_type": "code",
      "metadata": {
        "id": "cERAEglaNodF"
      },
      "source": [
        "#import library\n",
        "from sklearn.model_selection import StratifiedKFold\n",
        "\n",
        "#define the stratified Kfold object\n",
        "#set random state for reproducibility\n",
        "kfold = StratifiedKFold(n_splits=5 ,shuffle=True, random_state=0)"
      ],
      "execution_count": null,
      "outputs": []
    },
    {
      "cell_type": "markdown",
      "metadata": {
        "id": "BAwFkfBOeX2u"
      },
      "source": [
        "**Model 1: Logistic Regression**"
      ]
    },
    {
      "cell_type": "code",
      "metadata": {
        "colab": {
          "base_uri": "https://localhost:8080/"
        },
        "id": "m0LitCRcNzCv",
        "outputId": "7f25aab3-b07a-41ab-8a85-c74dcc85721e"
      },
      "source": [
        "# Split the training dataset into training and validation dataset\n",
        "#using a stratified CV=5\n",
        "training_auc_list = []\n",
        "validation_auc_list = []\n",
        "\n",
        "#For each folds in Kfolds, selects n-1 folds as the training set and the last fold as the validation set\n",
        "for train_index, val_index in kfold.split(X_train_preprocessed,label_encoded_y_train):\n",
        "    X_train_cv, X_val_cv =X_train_preprocessed[train_index], X_train_preprocessed[val_index]\n",
        "    y_train_cv, y_val_cv = label_encoded_y_train[train_index], label_encoded_y_train[val_index]\n",
        "  \n",
        "    #initialize logistic regression\n",
        "    log_reg = LogisticRegression(max_iter=100, random_state=0, n_jobs=-1)\n",
        "\n",
        "    #Training with the training split \n",
        "    log_reg.fit(X_train_cv,y_train_cv)\n",
        "\n",
        "    #create training and validation predictions probabilities\n",
        "    train_predictions_proba = log_reg.predict_proba(X_train_cv)\n",
        "    val_predictions_proba = log_reg.predict_proba(X_val_cv)\n",
        "\n",
        "    #create training and validation predictions \n",
        "    train_predictions= log_reg.predict(X_train_cv)\n",
        "    val_predictions= log_reg.predict(X_val_cv)\n",
        "                                     \n",
        "    #calculate testing AUC Scores\n",
        "    # We chose AUC because of the imbalance dataset\n",
        "    training_auc= roc_auc_score(y_train_cv,train_predictions_proba[:,1])\n",
        "    validation_auc= roc_auc_score(y_val_cv,val_predictions_proba[:,1])\n",
        "\n",
        "    #append training and validation auc into list\n",
        "    training_auc_list.append(training_auc)\n",
        "    validation_auc_list.append(validation_auc)\n",
        "\n",
        "    #view the training and validation AUC\n",
        "    print(f'Training AUC: {training_auc}')\n",
        "    print(f'Validation AUC: {validation_auc}')\n",
        "\n",
        "print('\\n')\n",
        "\n",
        "\n",
        "#view training and validation auc\n",
        "print(f'Training AUC List: {training_auc_list}')\n",
        "print(f'Validation AUC List: {validation_auc_list}')\n",
        "\n",
        "print('\\n')\n",
        "#Get the mean training and validtaion auc score\n",
        "print(f'Mean training auc score: {np.mean(training_auc_list)}')\n",
        "print(f'Mean validation auc score: {np.mean(validation_auc_list)}')"
      ],
      "execution_count": null,
      "outputs": [
        {
          "output_type": "stream",
          "text": [
            "Training AUC: 0.6724517585734879\n",
            "Validation AUC: 0.6779584714851201\n",
            "Training AUC: 0.6709372169658612\n",
            "Validation AUC: 0.6882717023206798\n",
            "Training AUC: 0.6746209686030646\n",
            "Validation AUC: 0.6584546119877835\n",
            "Training AUC: 0.6699800166267622\n",
            "Validation AUC: 0.6715959362334492\n",
            "Training AUC: 0.6751806571879619\n",
            "Validation AUC: 0.6647728736839218\n",
            "\n",
            "\n",
            "Training AUC List: [0.6724517585734879, 0.6709372169658612, 0.6746209686030646, 0.6699800166267622, 0.6751806571879619]\n",
            "Validation AUC List: [0.6779584714851201, 0.6882717023206798, 0.6584546119877835, 0.6715959362334492, 0.6647728736839218]\n",
            "\n",
            "\n",
            "Mean training auc score: 0.6726341235914276\n",
            "Mean validation auc score: 0.6722107191421909\n"
          ],
          "name": "stdout"
        }
      ]
    },
    {
      "cell_type": "markdown",
      "metadata": {
        "id": "6VZ52XjP0z6Q"
      },
      "source": [
        "**Make predictions on test data**"
      ]
    },
    {
      "cell_type": "code",
      "metadata": {
        "colab": {
          "base_uri": "https://localhost:8080/"
        },
        "id": "ccdVpKKm0wlf",
        "outputId": "85df54ff-8c4f-4f80-d895-86fbc7f66cdd"
      },
      "source": [
        "#finally retrain on the whole training and test on the testing data\n",
        "#initialize logistic regression\n",
        "log_reg = LogisticRegression(max_iter=100,random_state=0, n_jobs=-1)\n",
        "\n",
        "#Training with the whole training set\n",
        "log_reg.fit(X_train_preprocessed,label_encoded_y_train)\n",
        "\n",
        "#create training and testing predictions probabilities\n",
        "train_predictions_proba = log_reg.predict_proba(X_train_preprocessed)\n",
        "test_predictions_proba = log_reg.predict_proba(X_test_preprocessed)\n",
        "\n",
        "#create training and validation predictions \n",
        "train_predictions= log_reg.predict(X_train_preprocessed)\n",
        "test_predictions= log_reg.predict(X_test_preprocessed)\n",
        "\n",
        "#calculate training and testing AUC Scores\n",
        "# We chose AUC because of the imbalance dataset\n",
        "training_auc= roc_auc_score(label_encoded_y_train,train_predictions_proba[:,1])\n",
        "testing_auc= roc_auc_score(label_encoded_y_test,test_predictions_proba[:,1])\n",
        "\n",
        " #view training auc\n",
        "print(f'Training AUC: {training_auc}')\n",
        "print(f'Testing AUC: {validation_auc}')"
      ],
      "execution_count": null,
      "outputs": [
        {
          "output_type": "stream",
          "text": [
            "Training AUC: 0.6761974923863416\n",
            "Testing AUC: 0.6647728736839218\n"
          ],
          "name": "stdout"
        }
      ]
    },
    {
      "cell_type": "code",
      "metadata": {
        "id": "O6RtMUJOgGq0"
      },
      "source": [
        "from sklearn.metrics import roc_curve\n",
        "\n",
        "# roc curve for models\n",
        "fpr1, tpr1, thresh1 = roc_curve(label_encoded_y_test, test_predictions_proba[:,1], pos_label=1)\n",
        "fpr2, tpr2, thresh2 = roc_curve(label_encoded_y_train, train_predictions_proba[:,1], pos_label=1)\n",
        "\n",
        "# roc curve for tpr = fpr \n",
        "random_probs = [0 for i in range(len(label_encoded_y_test))]\n",
        "p_fpr, p_tpr, _ = roc_curve(label_encoded_y_test, random_probs, pos_label=1)"
      ],
      "execution_count": null,
      "outputs": []
    },
    {
      "cell_type": "code",
      "metadata": {
        "colab": {
          "base_uri": "https://localhost:8080/",
          "height": 512
        },
        "id": "5lDw2NzdgbIo",
        "outputId": "ac13f549-4487-4bc3-877e-1b155ef50ce7"
      },
      "source": [
        "plt.style.use('seaborn')\n",
        "plt.figure(figsize=(10,8))\n",
        "# plot roc curves\n",
        "plt.plot(fpr1, tpr1, linestyle='--',color='orange', label='Testing AUC')\n",
        "plt.plot(fpr2, tpr2, linestyle='--',color='green', label='Training AUC')\n",
        "plt.plot(p_fpr, p_tpr, linestyle='--', color='blue')\n",
        "# title\n",
        "plt.title('Logistics Regression ROC curve')\n",
        "# x label\n",
        "plt.xlabel('False Positive Rate')\n",
        "# y label\n",
        "plt.ylabel('True Positive rate')\n",
        "\n",
        "plt.legend(loc='best')\n",
        "plt.savefig('ROC',dpi=300)\n",
        "plt.show();"
      ],
      "execution_count": null,
      "outputs": [
        {
          "output_type": "display_data",
          "data": {
            "image/png": "[encoded data removed]",
            "text/plain": [
              "<Figure size 720x576 with 1 Axes>"
            ]
          },
          "metadata": {
            "tags": []
          }
        }
      ]
    },
    {
      "cell_type": "markdown",
      "metadata": {
        "id": "WaMePTRFAZs9"
      },
      "source": [
        "***The Linear Classifier didn't perform well on the dataset. Let's try PCA to reduce the dimension and retrain the model.***\n",
        "\n",
        "Remember: Don't scale features before fitting the PCA . i.e. Fit the PCA on unscaled dataset"
      ]
    },
    {
      "cell_type": "code",
      "metadata": {
        "colab": {
          "base_uri": "https://localhost:8080/"
        },
        "id": "43b7Mcwx71yH",
        "outputId": "3dd0ece4-437f-461c-bc31-134a201fc3cc"
      },
      "source": [
        "#don't scale a feature if before using PCA\n",
        "X_train_dummy_coded = pd.get_dummies(X_train_filled, dummy_na=True)\n",
        "\n",
        "\n",
        "#initialize PCA\n",
        "pca = PCA()    \n",
        "\n",
        "#fit on the training data\n",
        "pca.fit(X_train_dummy_coded)  \n",
        "\n",
        "#check the explained variance by each feature\n",
        "pca.explained_variance_ratio_  [:4].sum()"
      ],
      "execution_count": null,
      "outputs": [
        {
          "output_type": "execute_result",
          "data": {
            "text/plain": [
              "0.9738075809099281"
            ]
          },
          "metadata": {
            "tags": []
          },
          "execution_count": 25
        }
      ]
    },
    {
      "cell_type": "markdown",
      "metadata": {
        "id": "F_sowL5yEXS4"
      },
      "source": [
        "First 4 features were able to explain over 99% of the variance . So I will get the first 4 features and fit the model on them."
      ]
    },
    {
      "cell_type": "markdown",
      "metadata": {
        "id": "gYAViQh6EmSZ"
      },
      "source": [
        "**Perform the Logistic Regression Using the First 4 features**"
      ]
    },
    {
      "cell_type": "code",
      "metadata": {
        "colab": {
          "base_uri": "https://localhost:8080/",
          "height": 217
        },
        "id": "OT-zqvl8fMC7",
        "outputId": "0c63e16e-15f4-47d1-e07c-ba96b83af36c"
      },
      "source": [
        "X_train_dummy_coded.head()"
      ],
      "execution_count": null,
      "outputs": [
        {
          "output_type": "execute_result",
          "data": {
            "text/html": [
              "<div>\n",
              "<style scoped>\n",
              "    .dataframe tbody tr th:only-of-type {\n",
              "        vertical-align: middle;\n",
              "    }\n",
              "\n",
              "    .dataframe tbody tr th {\n",
              "        vertical-align: top;\n",
              "    }\n",
              "\n",
              "    .dataframe thead th {\n",
              "        text-align: right;\n",
              "    }\n",
              "</style>\n",
              "<table border=\"1\" class=\"dataframe\">\n",
              "  <thead>\n",
              "    <tr style=\"text-align: right;\">\n",
              "      <th></th>\n",
              "      <th>national_inv</th>\n",
              "      <th>lead_time</th>\n",
              "      <th>in_transit_qty</th>\n",
              "      <th>forecast_3_month</th>\n",
              "      <th>forecast_6_month</th>\n",
              "      <th>forecast_9_month</th>\n",
              "      <th>sales_1_month</th>\n",
              "      <th>sales_3_month</th>\n",
              "      <th>sales_6_month</th>\n",
              "      <th>sales_9_month</th>\n",
              "      <th>min_bank</th>\n",
              "      <th>pieces_past_due</th>\n",
              "      <th>perf_6_month_avg</th>\n",
              "      <th>perf_12_month_avg</th>\n",
              "      <th>local_bo_qty</th>\n",
              "      <th>potential_issue_No</th>\n",
              "      <th>potential_issue_Yes</th>\n",
              "      <th>potential_issue_nan</th>\n",
              "      <th>deck_risk_No</th>\n",
              "      <th>deck_risk_Yes</th>\n",
              "      <th>deck_risk_nan</th>\n",
              "      <th>oe_constraint_No</th>\n",
              "      <th>oe_constraint_Yes</th>\n",
              "      <th>oe_constraint_nan</th>\n",
              "      <th>ppap_risk_No</th>\n",
              "      <th>ppap_risk_Yes</th>\n",
              "      <th>ppap_risk_nan</th>\n",
              "      <th>stop_auto_buy_No</th>\n",
              "      <th>stop_auto_buy_Yes</th>\n",
              "      <th>stop_auto_buy_nan</th>\n",
              "      <th>rev_stop_No</th>\n",
              "      <th>rev_stop_Yes</th>\n",
              "      <th>rev_stop_nan</th>\n",
              "    </tr>\n",
              "  </thead>\n",
              "  <tbody>\n",
              "    <tr>\n",
              "      <th>719765</th>\n",
              "      <td>3</td>\n",
              "      <td>6.0</td>\n",
              "      <td>0</td>\n",
              "      <td>0</td>\n",
              "      <td>0</td>\n",
              "      <td>0</td>\n",
              "      <td>0</td>\n",
              "      <td>0</td>\n",
              "      <td>1</td>\n",
              "      <td>3</td>\n",
              "      <td>0</td>\n",
              "      <td>0</td>\n",
              "      <td>0.79</td>\n",
              "      <td>0.66</td>\n",
              "      <td>0</td>\n",
              "      <td>1</td>\n",
              "      <td>0</td>\n",
              "      <td>0</td>\n",
              "      <td>1</td>\n",
              "      <td>0</td>\n",
              "      <td>0</td>\n",
              "      <td>1</td>\n",
              "      <td>0</td>\n",
              "      <td>0</td>\n",
              "      <td>1</td>\n",
              "      <td>0</td>\n",
              "      <td>0</td>\n",
              "      <td>0</td>\n",
              "      <td>1</td>\n",
              "      <td>0</td>\n",
              "      <td>1</td>\n",
              "      <td>0</td>\n",
              "      <td>0</td>\n",
              "    </tr>\n",
              "    <tr>\n",
              "      <th>984611</th>\n",
              "      <td>5</td>\n",
              "      <td>9.0</td>\n",
              "      <td>0</td>\n",
              "      <td>0</td>\n",
              "      <td>0</td>\n",
              "      <td>0</td>\n",
              "      <td>0</td>\n",
              "      <td>0</td>\n",
              "      <td>0</td>\n",
              "      <td>0</td>\n",
              "      <td>0</td>\n",
              "      <td>0</td>\n",
              "      <td>0.68</td>\n",
              "      <td>0.66</td>\n",
              "      <td>0</td>\n",
              "      <td>1</td>\n",
              "      <td>0</td>\n",
              "      <td>0</td>\n",
              "      <td>0</td>\n",
              "      <td>1</td>\n",
              "      <td>0</td>\n",
              "      <td>1</td>\n",
              "      <td>0</td>\n",
              "      <td>0</td>\n",
              "      <td>1</td>\n",
              "      <td>0</td>\n",
              "      <td>0</td>\n",
              "      <td>0</td>\n",
              "      <td>1</td>\n",
              "      <td>0</td>\n",
              "      <td>1</td>\n",
              "      <td>0</td>\n",
              "      <td>0</td>\n",
              "    </tr>\n",
              "    <tr>\n",
              "      <th>848050</th>\n",
              "      <td>0</td>\n",
              "      <td>8.0</td>\n",
              "      <td>0</td>\n",
              "      <td>0</td>\n",
              "      <td>0</td>\n",
              "      <td>0</td>\n",
              "      <td>0</td>\n",
              "      <td>0</td>\n",
              "      <td>0</td>\n",
              "      <td>0</td>\n",
              "      <td>0</td>\n",
              "      <td>0</td>\n",
              "      <td>0.62</td>\n",
              "      <td>0.52</td>\n",
              "      <td>0</td>\n",
              "      <td>1</td>\n",
              "      <td>0</td>\n",
              "      <td>0</td>\n",
              "      <td>1</td>\n",
              "      <td>0</td>\n",
              "      <td>0</td>\n",
              "      <td>1</td>\n",
              "      <td>0</td>\n",
              "      <td>0</td>\n",
              "      <td>0</td>\n",
              "      <td>1</td>\n",
              "      <td>0</td>\n",
              "      <td>0</td>\n",
              "      <td>1</td>\n",
              "      <td>0</td>\n",
              "      <td>1</td>\n",
              "      <td>0</td>\n",
              "      <td>0</td>\n",
              "    </tr>\n",
              "    <tr>\n",
              "      <th>427426</th>\n",
              "      <td>4</td>\n",
              "      <td>8.0</td>\n",
              "      <td>0</td>\n",
              "      <td>0</td>\n",
              "      <td>0</td>\n",
              "      <td>0</td>\n",
              "      <td>0</td>\n",
              "      <td>0</td>\n",
              "      <td>0</td>\n",
              "      <td>1</td>\n",
              "      <td>0</td>\n",
              "      <td>0</td>\n",
              "      <td>0.79</td>\n",
              "      <td>0.66</td>\n",
              "      <td>0</td>\n",
              "      <td>1</td>\n",
              "      <td>0</td>\n",
              "      <td>0</td>\n",
              "      <td>1</td>\n",
              "      <td>0</td>\n",
              "      <td>0</td>\n",
              "      <td>1</td>\n",
              "      <td>0</td>\n",
              "      <td>0</td>\n",
              "      <td>1</td>\n",
              "      <td>0</td>\n",
              "      <td>0</td>\n",
              "      <td>0</td>\n",
              "      <td>1</td>\n",
              "      <td>0</td>\n",
              "      <td>1</td>\n",
              "      <td>0</td>\n",
              "      <td>0</td>\n",
              "    </tr>\n",
              "    <tr>\n",
              "      <th>21506</th>\n",
              "      <td>587</td>\n",
              "      <td>8.0</td>\n",
              "      <td>0</td>\n",
              "      <td>0</td>\n",
              "      <td>0</td>\n",
              "      <td>0</td>\n",
              "      <td>0</td>\n",
              "      <td>0</td>\n",
              "      <td>1</td>\n",
              "      <td>1</td>\n",
              "      <td>0</td>\n",
              "      <td>0</td>\n",
              "      <td>-99.00</td>\n",
              "      <td>-99.00</td>\n",
              "      <td>0</td>\n",
              "      <td>1</td>\n",
              "      <td>0</td>\n",
              "      <td>0</td>\n",
              "      <td>0</td>\n",
              "      <td>1</td>\n",
              "      <td>0</td>\n",
              "      <td>1</td>\n",
              "      <td>0</td>\n",
              "      <td>0</td>\n",
              "      <td>0</td>\n",
              "      <td>1</td>\n",
              "      <td>0</td>\n",
              "      <td>0</td>\n",
              "      <td>1</td>\n",
              "      <td>0</td>\n",
              "      <td>1</td>\n",
              "      <td>0</td>\n",
              "      <td>0</td>\n",
              "    </tr>\n",
              "  </tbody>\n",
              "</table>\n",
              "</div>"
            ],
            "text/plain": [
              "        national_inv  lead_time  ...  rev_stop_Yes  rev_stop_nan\n",
              "719765             3        6.0  ...             0             0\n",
              "984611             5        9.0  ...             0             0\n",
              "848050             0        8.0  ...             0             0\n",
              "427426             4        8.0  ...             0             0\n",
              "21506            587        8.0  ...             0             0\n",
              "\n",
              "[5 rows x 33 columns]"
            ]
          },
          "metadata": {
            "tags": []
          },
          "execution_count": 26
        }
      ]
    },
    {
      "cell_type": "code",
      "metadata": {
        "id": "KtJOT2eMAWxx"
      },
      "source": [
        "#Retrieve the first 4 principal components\n",
        "pca = PCA(n_components=4)  \n",
        "X_train_pca_for_logreg = pca.fit_transform(X_train_dummy_coded)  \n",
        "\n",
        "#Scale numnerical features  \n",
        "sc= StandardScaler()\n",
        "X_train_pca_scaled = sc.fit_transform(X_train_pca_for_logreg)"
      ],
      "execution_count": null,
      "outputs": []
    },
    {
      "cell_type": "code",
      "metadata": {
        "id": "9tOHahLaxQLl"
      },
      "source": [
        "#testing preprocessing\n",
        "X_test_dummy_coded = pd.get_dummies(X_test_filled_missing, dummy_na=True)\n",
        "X_test_pca_for_logreg= pca.transform(X_test_dummy_coded)\n",
        "X_test_pca_scaled = sc.transform(X_test_pca_for_logreg)"
      ],
      "execution_count": null,
      "outputs": []
    },
    {
      "cell_type": "code",
      "metadata": {
        "colab": {
          "base_uri": "https://localhost:8080/"
        },
        "id": "TdX60zhnBs16",
        "outputId": "91557ed4-566c-475e-c93e-eed8c1caff25"
      },
      "source": [
        "# Split the training dataset into training and validation dataset\n",
        "#using a stratified CV=5\n",
        "training_auc_list = []\n",
        "validation_auc_list = []\n",
        "\n",
        "#For each folds in Kfolds, selects n-1 folds as the training set and the last fold as the validation set\n",
        "for train_index, val_index in kfold.split(X_train_pca_scaled,label_encoded_y_train):\n",
        "    X_train_cv, X_val_cv =X_train_pca_scaled[train_index], X_train_pca_scaled[val_index]\n",
        "    y_train_cv, y_val_cv = label_encoded_y_train[train_index], label_encoded_y_train[val_index]\n",
        "  \n",
        "    #initialize logistic regression\n",
        "    log_reg = LogisticRegression(max_iter=100, random_state=0, n_jobs=-1)\n",
        "\n",
        "    #Training with the training split \n",
        "    log_reg.fit(X_train_cv,y_train_cv)\n",
        "\n",
        "    #create training and validation predictions probabilities\n",
        "    train_predictions_proba = log_reg.predict_proba(X_train_cv)\n",
        "    val_predictions_proba = log_reg.predict_proba(X_val_cv)\n",
        "\n",
        "    #create training and validation predictions \n",
        "    train_predictions= log_reg.predict(X_train_cv)\n",
        "    val_predictions= log_reg.predict(X_val_cv)\n",
        "                                     \n",
        "    #calculate testing AUC Scores\n",
        "    # We chose AUC because of the imbalance dataset\n",
        "    training_auc= roc_auc_score(y_train_cv,train_predictions_proba[:,1])\n",
        "    validation_auc= roc_auc_score(y_val_cv,val_predictions_proba[:,1])\n",
        "\n",
        "    #append training and validation auc into list\n",
        "    training_auc_list.append(training_auc)\n",
        "    validation_auc_list.append(validation_auc)\n",
        "\n",
        "    #view the training and validation AUC\n",
        "    print(f'Training AUC: {training_auc}')\n",
        "    print(f'Validation AUC: {validation_auc}')\n",
        "\n",
        "print('\\n')\n",
        "\n",
        "\n",
        "#view training and validation auc\n",
        "print(f'Training AUC List: {training_auc_list}')\n",
        "print(f'Validation AUC List: {validation_auc_list}')\n",
        "\n",
        "print('\\n')\n",
        "#Get the mean training and validtaion auc score\n",
        "print(f'Mean training auc score: {np.mean(training_auc_list)}')\n",
        "print(f'Mean validation auc score: {np.mean(validation_auc_list)}')"
      ],
      "execution_count": null,
      "outputs": [
        {
          "output_type": "stream",
          "text": [
            "Training AUC: 0.8219349730427554\n",
            "Validation AUC: 0.8335417613420681\n",
            "Training AUC: 0.821101214130969\n",
            "Validation AUC: 0.8285866417883128\n",
            "Training AUC: 0.8207891069360854\n",
            "Validation AUC: 0.8186982450051239\n",
            "Training AUC: 0.8212064371748728\n",
            "Validation AUC: 0.8101957213259168\n",
            "Training AUC: 0.82157804309445\n",
            "Validation AUC: 0.8155598272154787\n",
            "\n",
            "\n",
            "Training AUC List: [0.8219349730427554, 0.821101214130969, 0.8207891069360854, 0.8212064371748728, 0.82157804309445]\n",
            "Validation AUC List: [0.8335417613420681, 0.8285866417883128, 0.8186982450051239, 0.8101957213259168, 0.8155598272154787]\n",
            "\n",
            "\n",
            "Mean training auc score: 0.8213219548758266\n",
            "Mean validation auc score: 0.82131643933538\n"
          ],
          "name": "stdout"
        }
      ]
    },
    {
      "cell_type": "markdown",
      "metadata": {
        "id": "xoNSNbhnzpic"
      },
      "source": [
        "**Evaluate the model generalization on the test set**"
      ]
    },
    {
      "cell_type": "code",
      "metadata": {
        "colab": {
          "base_uri": "https://localhost:8080/"
        },
        "id": "nPewisMvdSKc",
        "outputId": "d1775652-aad7-4725-b731-86269bb775ee"
      },
      "source": [
        "#finally retrain on the whole training and test on the testing data\n",
        "#initialize logistic regression\n",
        "log_reg = LogisticRegression(max_iter=100, C=1,random_state=0, n_jobs=-1)\n",
        "\n",
        "#Training with the whole training set\n",
        "log_reg.fit(X_train_pca_scaled,label_encoded_y_train)\n",
        "\n",
        "#create training and testing predictions probabilities\n",
        "train_predictions_proba = log_reg.predict_proba(X_train_pca_scaled)\n",
        "test_predictions_proba = log_reg.predict_proba(X_test_pca_scaled)\n",
        "\n",
        "#create training and validation predictions \n",
        "train_predictions= log_reg.predict(X_train_pca_scaled)\n",
        "test_predictions= log_reg.predict(X_test_pca_scaled)\n",
        "\n",
        "#calculate training and testing AUC Scores\n",
        "# We chose AUC because of the imbalance dataset\n",
        "training_auc= roc_auc_score(label_encoded_y_train,train_predictions_proba[:,1])\n",
        "testing_auc= roc_auc_score(label_encoded_y_test,test_predictions_proba[:,1])\n",
        "\n",
        " #view training auc\n",
        "print(f'Training AUC: {training_auc}')\n",
        "print(f'Testing AUC: {validation_auc}')"
      ],
      "execution_count": null,
      "outputs": [
        {
          "output_type": "stream",
          "text": [
            "Training AUC: 0.8195225961082534\n",
            "Testing AUC: 0.8155598272154787\n"
          ],
          "name": "stdout"
        }
      ]
    },
    {
      "cell_type": "markdown",
      "metadata": {
        "id": "0kcV3RPdJOYy"
      },
      "source": [
        "**Visualization**"
      ]
    },
    {
      "cell_type": "code",
      "metadata": {
        "id": "i1xa1GrlHOt4"
      },
      "source": [
        "from sklearn.metrics import roc_curve\n",
        "\n",
        "# roc curve for models\n",
        "fpr1, tpr1, thresh1 = roc_curve(label_encoded_y_test, test_predictions_proba[:,1], pos_label=1)\n",
        "fpr2, tpr2, thresh2 = roc_curve(label_encoded_y_train, train_predictions_proba[:,1], pos_label=1)\n",
        "\n",
        "# roc curve for tpr = fpr \n",
        "random_probs = [0 for i in range(len(label_encoded_y_test))]\n",
        "p_fpr, p_tpr, _ = roc_curve(label_encoded_y_test, random_probs, pos_label=1)"
      ],
      "execution_count": null,
      "outputs": []
    },
    {
      "cell_type": "code",
      "metadata": {
        "colab": {
          "base_uri": "https://localhost:8080/",
          "height": 512
        },
        "id": "rvVlSW2RH2Rr",
        "outputId": "38ff92d9-66e3-4035-fb34-9e4f0096a072"
      },
      "source": [
        "plt.style.use('seaborn')\n",
        "plt.figure(figsize=(10,8))\n",
        "# plot roc curves\n",
        "plt.plot(fpr1, tpr1, linestyle='--',color='orange', label='Testing AUC')\n",
        "plt.plot(fpr2, tpr2, linestyle='--',color='green', label='Training AUC')\n",
        "plt.plot(p_fpr, p_tpr, linestyle='--', color='blue')\n",
        "# title\n",
        "plt.title('Logistics Regression ROC curve')\n",
        "# x label\n",
        "plt.xlabel('False Positive Rate')\n",
        "# y label\n",
        "plt.ylabel('True Positive rate')\n",
        "\n",
        "plt.legend(loc='best')\n",
        "plt.savefig('ROC',dpi=300)\n",
        "plt.show();"
      ],
      "execution_count": null,
      "outputs": [
        {
          "output_type": "display_data",
          "data": {
            "image/png": "[encoded data removed]",
            "text/plain": [
              "<Figure size 720x576 with 1 Axes>"
            ]
          },
          "metadata": {
            "tags": []
          }
        }
      ]
    },
    {
      "cell_type": "code",
      "metadata": {
        "colab": {
          "base_uri": "https://localhost:8080/"
        },
        "id": "a81F0uJP8YnQ",
        "outputId": "5ae9bca4-fa61-47c8-99bf-05144aa7ed70"
      },
      "source": [
        "#confusion matrix\n",
        "confusion_matrix(label_encoded_y_test,test_predictions)"
      ],
      "execution_count": null,
      "outputs": [
        {
          "output_type": "execute_result",
          "data": {
            "text/plain": [
              "array([[207934,      1],\n",
              "       [  1780,      0]])"
            ]
          },
          "metadata": {
            "tags": []
          },
          "execution_count": 33
        }
      ]
    },
    {
      "cell_type": "markdown",
      "metadata": {
        "id": "yInoQYVnCO_e"
      },
      "source": [
        "**Tune Hyperparamter**"
      ]
    },
    {
      "cell_type": "code",
      "metadata": {
        "colab": {
          "base_uri": "https://localhost:8080/"
        },
        "id": "0qisjM1FCURz",
        "outputId": "e936d64a-4cc2-4360-e536-29f8f2d90e31"
      },
      "source": [
        "#impport RandomSearchCV\n",
        "from sklearn.model_selection import RandomizedSearchCV\n",
        "\n",
        "#define the hyperparamters and searched space\n",
        "C = [10,100,1000,10001]\n",
        "# penalty = ['l1', 'l2']\n",
        "\n",
        "random_space = dict(C=C)\n",
        "\n",
        "randomsearch_logreg = RandomizedSearchCV(estimator=log_reg,param_distributions= random_space,cv=kfold, \n",
        "                                        scoring='roc_auc',random_state=0, n_jobs=-1)\n",
        "\n",
        "#fit the random search cv\n",
        "randomsearch_logreg.fit(X_train_pca_for_logreg, label_encoded_y_train)  #X_train_preprocessed\n",
        "randomsearch_logreg.best_params_"
      ],
      "execution_count": null,
      "outputs": [
        {
          "output_type": "stream",
          "text": [
            "/usr/local/lib/python3.6/dist-packages/sklearn/model_selection/_search.py:281: UserWarning: The total space of parameters 4 is smaller than n_iter=10. Running 4 iterations. For exhaustive searches, use GridSearchCV.\n",
            "  % (grid_size, self.n_iter, grid_size), UserWarning)\n"
          ],
          "name": "stderr"
        },
        {
          "output_type": "execute_result",
          "data": {
            "text/plain": [
              "{'C': 1000}"
            ]
          },
          "metadata": {
            "tags": []
          },
          "execution_count": 35
        }
      ]
    },
    {
      "cell_type": "code",
      "metadata": {
        "id": "cloxq7lsZxIo"
      },
      "source": [
        "best_params={'C': 100, 'penalty': 'l2'}\n",
        "# best_params={'C': 100, 'penalty': 'l2'}"
      ],
      "execution_count": null,
      "outputs": []
    },
    {
      "cell_type": "markdown",
      "metadata": {
        "id": "A6WU5M79SpT7"
      },
      "source": [
        "**Visualize best params**"
      ]
    },
    {
      "cell_type": "code",
      "metadata": {
        "colab": {
          "base_uri": "https://localhost:8080/"
        },
        "id": "u7NX0TpRSwOH",
        "outputId": "e1b1dbd0-311b-45dd-9d92-0019364ad824"
      },
      "source": [
        "#finally retrain on the whole training and test on the testing data\n",
        "#initialize logistic regression\n",
        "log_reg_bestparams = LogisticRegression(max_iter=100, **best_params, random_state=0, n_jobs=-1)\n",
        "\n",
        "#Training with the whole training set\n",
        "log_reg_bestparams.fit(X_train_preprocessed,label_encoded_y_train)\n",
        "\n",
        "#create training and testing predictions probabilities\n",
        "train_predictions_proba_tuned = log_reg_bestparams.predict_proba(X_train_preprocessed)\n",
        "test_predictions_proba_tuned = log_reg_bestparams.predict_proba(X_test_preprocessed)\n",
        "\n",
        "#create training and validation predictions \n",
        "train_predictions_tuned= log_reg_bestparams.predict(X_train_preprocessed)\n",
        "test_predictions_tuned= log_reg_bestparams.predict(X_test_preprocessed)\n",
        "\n",
        "#calculate training and testing AUC Scores\n",
        "# We chose AUC because of the imbalance dataset\n",
        "training_auc_tuned= roc_auc_score(label_encoded_y_train,train_predictions_proba_tuned[:,1])\n",
        "testing_auc_tuned= roc_auc_score(label_encoded_y_test,test_predictions_proba_tuned[:,1])\n",
        "\n",
        " #view training auc\n",
        "print(f'Training AUC: {training_auc_tuned}')\n",
        "print(f'Testing AUC: {testing_auc_tuned}')"
      ],
      "execution_count": null,
      "outputs": [
        {
          "output_type": "stream",
          "text": [
            "Training AUC: 0.6817419385359189\n",
            "Testing AUC: 0.6806682174069631\n"
          ],
          "name": "stdout"
        }
      ]
    },
    {
      "cell_type": "code",
      "metadata": {
        "id": "PMwQrSZtSZkK"
      },
      "source": [
        "from sklearn.metrics import roc_curve\n",
        "\n",
        "# roc curve for models\n",
        "fpr_1, tpr_1, thresh_1 = roc_curve(label_encoded_y_test, test_predictions_proba_tuned[:,1], pos_label=1)\n",
        "fpr_2, tpr_2, thresh_2 = roc_curve(label_encoded_y_train, train_predictions_proba_tuned[:,1], pos_label=1)\n",
        "\n",
        "# roc curve for tpr = fpr \n",
        "random_probs = [0 for i in range(len(label_encoded_y_test))]\n",
        "p_fpr, p_tpr, _ = roc_curve(label_encoded_y_test, random_probs, pos_label=1)"
      ],
      "execution_count": null,
      "outputs": []
    },
    {
      "cell_type": "code",
      "metadata": {
        "colab": {
          "base_uri": "https://localhost:8080/",
          "height": 512
        },
        "id": "q-8LzJ-MSfMv",
        "outputId": "2afae101-3da5-45f2-9cbf-958afae8c9a8"
      },
      "source": [
        "plt.style.use('seaborn')\n",
        "plt.figure(figsize=(10,8))\n",
        "# plot roc curves\n",
        "plt.plot(fpr_1, tpr_1, linestyle='--',color='orange', label='Testing AUC')\n",
        "plt.plot(fpr_2, tpr_2, linestyle='--',color='green', label='Training AUC')\n",
        "plt.plot(p_fpr, p_tpr, linestyle='--', color='blue')\n",
        "# title\n",
        "plt.title('Logistics Regression ROC curve')\n",
        "# x label\n",
        "plt.xlabel('False Positive Rate')\n",
        "# y label\n",
        "plt.ylabel('True Positive rate')\n",
        "\n",
        "plt.legend(loc='best')\n",
        "plt.savefig('ROC',dpi=300)\n",
        "plt.show();"
      ],
      "execution_count": null,
      "outputs": [
        {
          "output_type": "display_data",
          "data": {
            "image/png": "[encoded data removed]",
            "text/plain": [
              "<Figure size 720x576 with 1 Axes>"
            ]
          },
          "metadata": {
            "tags": []
          }
        }
      ]
    },
    {
      "cell_type": "markdown",
      "metadata": {
        "id": "aSixlYn3-TQ6"
      },
      "source": [
        "**Model2 : Support Vector Machine**    Too slow and we didn't use it eventually"
      ]
    },
    {
      "cell_type": "code",
      "metadata": {
        "id": "9dsboe8Te1XT"
      },
      "source": [
        "# # #import library\n",
        "# from sklearn.svm import SVC\n",
        "\n",
        "# # # Split the training dataset into training and validation dataset\n",
        "# # #using a stratified CV=5\n",
        "# svm_training_auc_list = []\n",
        "# svm_validation_auc_list = []\n",
        "\n",
        "# #For each folds in Kfolds, selects n-1 folds as the training set and the last fold as the validation set\n",
        "# for train_index, val_index in kfold.split(X_train_pca_scaled,label_encoded_y_train):\n",
        "#      X_train_cv, X_val_cv =X_train_pca_scaled[train_index], X_train_pca_scaled[val_index]\n",
        "#      y_train_cv, y_val_cv = label_encoded_y_train[train_index], label_encoded_y_train[val_index]\n",
        "  \n",
        "#      #initialize logistic regression\n",
        "#      svm_clf = SVC(random_state=0, probability=True)\n",
        "\n",
        "#      #Training with the training split \n",
        "#      svm_clf .fit(X_train_cv,y_train_cv)\n",
        "\n",
        "#      #create training and validation predictions probabilities\n",
        "#      svm_train_predictions_proba = svm_clf.predict_proba(X_train_cv)\n",
        "#      svm_val_predictions_proba = svm_clf.predict_proba(X_val_cv)\n",
        "\n",
        "#      #create training and validation predictions \n",
        "#      svm_train_predictions= svm_clf .predict(X_train_cv)\n",
        "#      svm_val_predictions= svm_clf.predict(X_val_cv)\n",
        "                                     \n",
        "#      #calculate testing AUC Scores\n",
        "#      # We chose AUC because of the imbalance dataset\n",
        "#      svm_training_auc= roc_auc_score(y_train_cv,svm_train_predictions_proba[:,1])\n",
        "#      svm_validation_auc= roc_auc_score(y_val_cv,svm_val_predictions_proba[:,1])\n",
        "\n",
        "#      #append training and validation auc into list\n",
        "#      svm_training_auc_list.append(svm_training_auc)\n",
        "#      svm_validation_auc_list.append(svm_validation_auc)\n",
        "\n",
        "# #     #view the training and validation AUC\n",
        "#      print(f'Training AUC: {svm_training_auc}')\n",
        "#      print(f'Validation AUC: {svm_validation_auc}')\n",
        "\n",
        "# print('\\n')\n",
        "\n",
        "\n",
        "# # #view training and validation auc\n",
        "# print(f'Training AUC List: {svm_training_auc_list}')\n",
        "# print(f'Validation AUC List: {svm_validation_auc_list}')\n",
        "\n",
        "# print('\\n')\n",
        "# #Get the mean training and validtaion auc score\n",
        "# print(f'Mean training auc score: {np.mean(svm_training_auc_list)}')\n",
        "# print(f'Mean validation auc score: {np.mean(svm_validation_auc_list)}')"
      ],
      "execution_count": null,
      "outputs": []
    },
    {
      "cell_type": "code",
      "metadata": {
        "id": "4-q_1SgBhT_h"
      },
      "source": [
        "# # roc curve for models\n",
        "# fpr_svm_test, tpr_svm_test, thresh1 = roc_curve(label_encoded_y_test, svm_test_predictions_proba[:,1], pos_label=1)\n",
        "# fpr_svm_train, tpr_svm_train, thresh2 = roc_curve(label_encoded_y_train, svm_train_predictions_proba[:,1], pos_label=1)\n",
        "\n",
        "# # # roc curve for tpr = fpr \n",
        "# # random_probs = [0 for i in range(len(label_encoded_y_test))]\n",
        "# # p_fpr, p_tpr, _ = roc_curve(label_encoded_y_test, random_probs, pos_label=1)\n",
        "\n",
        "\n",
        "# #plot\n",
        "# plt.style.use('seaborn')\n",
        "# plt.figure(figsize=(10,8))\n",
        "# # plot roc curves\n",
        "# plt.plot(fpr_svm_test, tpr_svm_test, linestyle='--',color='orange', label='Testing AUC')\n",
        "# plt.plot(fpr_svm_train, tpr_svm_train, linestyle='--',color='green', label='Training AUC')\n",
        "# plt.plot(p_fpr, p_tpr, linestyle='--', color='blue')\n",
        "# # title\n",
        "# plt.title('SVM ROC curve')\n",
        "# # x label\n",
        "# plt.xlabel('False Positive Rate')\n",
        "# # y label\n",
        "# plt.ylabel('True Positive rate')\n",
        "\n",
        "# plt.legend(loc='best')\n",
        "# plt.savefig('SVM_ROC',dpi=300)\n",
        "# plt.show();"
      ],
      "execution_count": null,
      "outputs": []
    },
    {
      "cell_type": "markdown",
      "metadata": {
        "id": "JzRZhEhsgg2F"
      },
      "source": [
        "**Fit on Full Training Dataset**"
      ]
    },
    {
      "cell_type": "code",
      "metadata": {
        "id": "_tgcZWpL-iFJ"
      },
      "source": [
        "# from sklearn.svm import SVC\n",
        "# #fit on the training set\n",
        "# svm = SVC(random_state=0)\n",
        "# svm.fit(X_train_preprocessed,label_encoded_y_train)"
      ],
      "execution_count": null,
      "outputs": []
    },
    {
      "cell_type": "code",
      "metadata": {
        "id": "PzOEXlOF-5Ak"
      },
      "source": [
        "# #create training and testing predictions probabilities\n",
        "# svm_train_predictions_proba = svm.predict_proba(X_train_preprocessed)\n",
        "# svm_test_predictions_proba = svm.predict_proba(X_test_preprocessed)\n",
        "\n",
        "# #create training and testing predictions \n",
        "# svm_train_predictions= svm.predict(X_train_preprocessed)\n",
        "# svm_test_predictions= svm.predict(X_test_preprocessed)"
      ],
      "execution_count": null,
      "outputs": []
    },
    {
      "cell_type": "code",
      "metadata": {
        "id": "cy4hyQ1T-5qL"
      },
      "source": [
        "# #calculate training and testing AUC Scores \n",
        "# training_auc= roc_auc_score(label_encoded_y_train,svm_train_predictions_proba[:,1])\n",
        "# testing_auc= roc_auc_score(label_encoded_y_test,svm_test_predictions_proba[:,1])\n",
        "\n",
        "# #view training auc\n",
        "# print(f'Training AUC: {training_auc}')\n",
        "# print(f'Testing AUC: {testing_auc}')"
      ],
      "execution_count": null,
      "outputs": []
    },
    {
      "cell_type": "markdown",
      "metadata": {
        "id": "UYYZQYFUjpiL"
      },
      "source": [
        "SVM Output :Run Time Disconnected"
      ]
    },
    {
      "cell_type": "markdown",
      "metadata": {
        "id": "ta4EK7rmA-f2"
      },
      "source": [
        "**Decision Trees**"
      ]
    },
    {
      "cell_type": "code",
      "metadata": {
        "colab": {
          "base_uri": "https://localhost:8080/"
        },
        "id": "zgINqd1JwdP8",
        "outputId": "b4e1fe10-581a-4c5e-ff8c-743ae929fa90"
      },
      "source": [
        "tree_training_auc_list = []\n",
        "tree_validation_auc_list=[]\n",
        "i=1\n",
        "#Split into traning and validation using Stratified KFold\n",
        "for train_index, val_index in kfold.split(X_train_preprocessed,label_encoded_y_train):\n",
        "    X_train_tree, X_val_tree =X_train_preprocessed[train_index], X_train_preprocessed[val_index]\n",
        "    y_train_tree, y_val_tree = label_encoded_y_train[train_index], label_encoded_y_train[val_index]\n",
        "\n",
        "\n",
        "    #initialize the model\n",
        "    tree_clf = DecisionTreeClassifier(random_state=0)\n",
        "\n",
        "    #fit the model on the training set\n",
        "    tree_clf.fit(X_train_tree,y_train_tree)\n",
        "\n",
        "    #create training and testing predictions probabilities\n",
        "    tree_train_predictions_proba = tree_clf.predict_proba(X_train_tree)\n",
        "    tree_val_predictions_proba = tree_clf.predict_proba(X_val_tree)\n",
        "\n",
        "    #calculate training and testing AUC Scores \n",
        "    tree_training_auc= roc_auc_score(y_train_tree,tree_train_predictions_proba[:,1])\n",
        "    tree_validation_auc= roc_auc_score(y_val_tree,tree_val_predictions_proba[:,1])\n",
        "\n",
        "    #append training and testing auc\n",
        "    tree_training_auc_list.append(tree_training_auc)\n",
        "    tree_validation_auc_list.append(tree_validation_auc)\n",
        "\n",
        "    #print training and validation auc\n",
        "    print(f\"{i}--Fold\")\n",
        "    print(f\"Training AUC: {tree_training_auc}\")\n",
        "    print(f\"Validation AUC: {tree_validation_auc}\")\n",
        "\n",
        "    i = i+1\n",
        "\n",
        "    print('\\n')"
      ],
      "execution_count": null,
      "outputs": [
        {
          "output_type": "stream",
          "text": [
            "1--Fold\n",
            "Training AUC: 0.9999424000514826\n",
            "Validation AUC: 0.7023625217764681\n",
            "\n",
            "\n",
            "2--Fold\n",
            "Training AUC: 0.9999446868149261\n",
            "Validation AUC: 0.6924118443959233\n",
            "\n",
            "\n",
            "3--Fold\n",
            "Training AUC: 0.9999512328632739\n",
            "Validation AUC: 0.7026587989325478\n",
            "\n",
            "\n",
            "4--Fold\n",
            "Training AUC: 0.9999437583367264\n",
            "Validation AUC: 0.6916293728890538\n",
            "\n",
            "\n",
            "5--Fold\n",
            "Training AUC: 0.9999444787714307\n",
            "Validation AUC: 0.696468549552137\n",
            "\n",
            "\n"
          ],
          "name": "stdout"
        }
      ]
    },
    {
      "cell_type": "code",
      "metadata": {
        "colab": {
          "base_uri": "https://localhost:8080/"
        },
        "id": "oi2yq09buVMw",
        "outputId": "df3d6a35-cf11-4e06-c02e-0c2d4727c9c3"
      },
      "source": [
        "#View the training and validation AUC\n",
        "print(f\"mean training aucs: {np.mean(tree_training_auc_list)} \")\n",
        "print(f\"mean validation aucs: {np.mean(tree_validation_auc_list)} \")"
      ],
      "execution_count": null,
      "outputs": [
        {
          "output_type": "stream",
          "text": [
            "mean training aucs: 0.9999453113675679 \n",
            "mean validation aucs: 0.697106217509226 \n"
          ],
          "name": "stdout"
        }
      ]
    },
    {
      "cell_type": "markdown",
      "metadata": {
        "id": "bz1lTwmIwlsn"
      },
      "source": [
        "**Evaluate the model generalization on the test set**"
      ]
    },
    {
      "cell_type": "code",
      "metadata": {
        "colab": {
          "base_uri": "https://localhost:8080/"
        },
        "id": "kV2Wyq-9v52e",
        "outputId": "03fa7d20-490b-44ad-c020-e9eeb20685cb"
      },
      "source": [
        "#initialize the model\n",
        "tree_clf = DecisionTreeClassifier(random_state=0)\n",
        "\n",
        "#fit the model on the training set\n",
        "tree_clf.fit(X_train_preprocessed,label_encoded_y_train)\n",
        "\n",
        "#create training and testing predictions probabilities\n",
        "tree_train_predictions_proba = tree_clf.predict_proba(X_train_preprocessed)\n",
        "tree_test_predictions_proba = tree_clf.predict_proba(X_test_preprocessed)\n",
        "\n",
        "#create training and testing predictions\n",
        "tree_train_predictions= tree_clf.predict(X_train_preprocessed)\n",
        "tree_test_predictions= tree_clf.predict(X_test_preprocessed)\n",
        "\n",
        "#calculate training and testing AUC Scores \n",
        "tree_train_auc= roc_auc_score(label_encoded_y_train,tree_train_predictions_proba[:,1])\n",
        "tree_test_auc= roc_auc_score(label_encoded_y_test,tree_test_predictions_proba[:,1])\n",
        "\n",
        "#display the training and testing AUC\n",
        "print(f\"Training AUC: {tree_train_auc}\")\n",
        "print(f\"Testing AUC: {tree_test_auc}\")"
      ],
      "execution_count": null,
      "outputs": [
        {
          "output_type": "stream",
          "text": [
            "Training AUC: 0.999939215943806\n",
            "Testing AUC: 0.7219742070434176\n"
          ],
          "name": "stdout"
        }
      ]
    },
    {
      "cell_type": "code",
      "metadata": {
        "colab": {
          "base_uri": "https://localhost:8080/"
        },
        "id": "SKFqbT8dybbL",
        "outputId": "4b3920f4-6cf2-49da-cae5-cd71f2117346"
      },
      "source": [
        "#confusion matrix\n",
        "confusion_matrix(label_encoded_y_test,tree_test_predictions)"
      ],
      "execution_count": null,
      "outputs": [
        {
          "output_type": "execute_result",
          "data": {
            "text/plain": [
              "array([[206824,   1111],\n",
              "       [  1040,    740]])"
            ]
          },
          "metadata": {
            "tags": []
          },
          "execution_count": 41
        }
      ]
    },
    {
      "cell_type": "markdown",
      "metadata": {
        "id": "usOwX3ChkTJc"
      },
      "source": [
        "**Plot ROC Curve**"
      ]
    },
    {
      "cell_type": "code",
      "metadata": {
        "colab": {
          "base_uri": "https://localhost:8080/",
          "height": 512
        },
        "id": "5IZHEbNwkYl7",
        "outputId": "3ae7c252-ae7a-480a-8795-924ca5ccdd8d"
      },
      "source": [
        "# roc curve for models\n",
        "fpr_tree_test, tpr_tree_test, thresh1 = roc_curve(label_encoded_y_test, tree_test_predictions_proba[:,1], pos_label=1)\n",
        "fpr_tree_train, tpr_tree_train, thresh2 = roc_curve(label_encoded_y_train, tree_train_predictions_proba[:,1], pos_label=1)\n",
        "\n",
        "# # roc curve for tpr = fpr \n",
        "# random_probs = [0 for i in range(len(label_encoded_y_test))]\n",
        "# # p_fpr, p_tpr, _ = roc_curve(label_encoded_y_test, random_probs, pos_label=1)\n",
        "\n",
        "#plot\n",
        "plt.style.use('seaborn')\n",
        "plt.figure(figsize=(10,8))\n",
        "\n",
        "plt.plot(fpr_tree_test, tpr_tree_test, linestyle='--',color='orange', label='Testing AUC')\n",
        "plt.plot(fpr_tree_train, tpr_tree_train, linestyle='--',color='green', label='Training AUC')\n",
        "plt.plot(p_fpr, p_tpr, linestyle='--', color='blue')\n",
        "# # title\n",
        "plt.title('Decision Tree ROC curve')\n",
        "# # x label\n",
        "plt.xlabel('False Positive Rate')\n",
        "# # y label\n",
        "plt.ylabel('True Positive rate')\n",
        "\n",
        "plt.legend(loc='best')\n",
        "plt.savefig('Decision_tree_ROC',dpi=300)\n",
        "plt.show();"
      ],
      "execution_count": null,
      "outputs": [
        {
          "output_type": "display_data",
          "data": {
            "image/png": "[encoded data removed]",
            "text/plain": [
              "<Figure size 720x576 with 1 Axes>"
            ]
          },
          "metadata": {
            "tags": []
          }
        }
      ]
    },
    {
      "cell_type": "markdown",
      "metadata": {
        "id": "wy_10TDexQ9c"
      },
      "source": [
        "**Finding the best depth/ Tune Hyperparameters**"
      ]
    },
    {
      "cell_type": "code",
      "metadata": {
        "id": "VJDA9RlA0-my"
      },
      "source": [
        "tree_clf= DecisionTreeClassifier(random_state=0)\n",
        "\n",
        "#Grid Search space\n",
        "param_grid = {'max_depth':[5,6,7,8,9,10,11],\n",
        "              'min_samples_split':[1,2,3,4]}      "
      ],
      "execution_count": null,
      "outputs": []
    },
    {
      "cell_type": "code",
      "metadata": {
        "colab": {
          "base_uri": "https://localhost:8080/"
        },
        "id": "_fKWOrzsw0rS",
        "outputId": "84d7cf48-5e59-4f1b-fe88-82fd0e2fab67"
      },
      "source": [
        "#import the grid search class\n",
        "from sklearn.model_selection import GridSearchCV\n",
        "\n",
        "#fit the grid search over all specified combination of parameters\n",
        "grid = GridSearchCV(tree_clf, param_grid = param_grid, cv=kfold , scoring= 'roc_auc', n_jobs=-1)\n",
        "grid.fit(X_train_preprocessed,label_encoded_y_train)\n",
        "\n",
        "#print best parameters\n",
        "grid.best_params_"
      ],
      "execution_count": null,
      "outputs": [
        {
          "output_type": "execute_result",
          "data": {
            "text/plain": [
              "{'max_depth': 8, 'min_samples_split': 4}"
            ]
          },
          "metadata": {
            "tags": []
          },
          "execution_count": 44
        }
      ]
    },
    {
      "cell_type": "code",
      "metadata": {
        "colab": {
          "base_uri": "https://localhost:8080/"
        },
        "id": "Y6_1xBvZ0SCw",
        "outputId": "e0d90409-7f92-4a91-ad93-fdf5b2b28943"
      },
      "source": [
        "#create training and testing predictions probabilities\n",
        "grid_tree_train_predictions_proba = grid.predict_proba(X_train_preprocessed)\n",
        "grid_tree_test_predictions_proba = grid.predict_proba(X_test_preprocessed)\n",
        "\n",
        "#create training and testing predictions\n",
        "grid_tree_train_predictions= grid.predict(X_train_preprocessed)\n",
        "grid_tree_test_predictions= grid.predict(X_test_preprocessed)\n",
        "\n",
        "#calculate training and testing AUC Scores \n",
        "grid_tree_train_auc= roc_auc_score(label_encoded_y_train,grid_tree_train_predictions_proba[:,1])\n",
        "grid_tree_test_auc= roc_auc_score(label_encoded_y_test,grid_tree_test_predictions_proba[:,1])\n",
        "\n",
        "#display the training and testing AUC\n",
        "print(f\"Training AUC with Best Params: {grid_tree_train_auc}\")\n",
        "print(f\"Testing AUC with Best Params: {grid_tree_test_auc}\")\n",
        "\n",
        "#cross_val_score(tree_clf,X_train_preprocessed,label_encoded_y_train,cv=kfold, scoring='roc_auc')"
      ],
      "execution_count": null,
      "outputs": [
        {
          "output_type": "stream",
          "text": [
            "Training AUC with Best Params: 0.9364450013819682\n",
            "Testing AUC with Best Params: 0.9268502189669794\n"
          ],
          "name": "stdout"
        }
      ]
    },
    {
      "cell_type": "markdown",
      "metadata": {
        "id": "58nKk4iJCDYe"
      },
      "source": [
        "**Plot ROC Curve**"
      ]
    },
    {
      "cell_type": "code",
      "metadata": {
        "colab": {
          "base_uri": "https://localhost:8080/",
          "height": 512
        },
        "id": "ZuqKbr-4_WrL",
        "outputId": "dcd13254-0b66-42e6-c041-66c51fcab471"
      },
      "source": [
        "# roc curve for models\n",
        "best_params_fpr_tree_test, best_params_tpr_tree_test, thresh1 = roc_curve(label_encoded_y_test, grid_tree_test_predictions_proba[:,1], pos_label=1)\n",
        "best_params_fpr_tree_train_grid, best_params_tpr_tree_train, thresh2 = roc_curve(label_encoded_y_train, grid_tree_train_predictions_proba[:,1], pos_label=1)\n",
        "\n",
        "# # roc curve for tpr = fpr \n",
        "# random_probs = [0 for i in range(len(label_encoded_y_test))]\n",
        "# # p_fpr, p_tpr, _ = roc_curve(label_encoded_y_test, random_probs, pos_label=1)\n",
        "\n",
        "#plot\n",
        "plt.style.use('seaborn')\n",
        "plt.figure(figsize=(10,8))\n",
        "\n",
        "plt.plot(best_params_fpr_tree_test, best_params_tpr_tree_test, linestyle='--',color='orange', label='Testing AUC')\n",
        "plt.plot(best_params_fpr_tree_train_grid, best_params_tpr_tree_train, linestyle='--',color='green', label='Training AUC')\n",
        "plt.plot(p_fpr, p_tpr, linestyle='--', color='blue')\n",
        "# # title\n",
        "plt.title('Decision Tree ROC curve using Best Params')\n",
        "# # x label\n",
        "plt.xlabel('False Positive Rate')\n",
        "# # y label\n",
        "plt.ylabel('True Positive rate')\n",
        "\n",
        "plt.legend(loc='best')\n",
        "plt.savefig('Best_Params_Decision_tree_ROC',dpi=300)\n",
        "plt.show();"
      ],
      "execution_count": null,
      "outputs": [
        {
          "output_type": "display_data",
          "data": {
            "image/png": "[encoded data removed]",
            "text/plain": [
              "<Figure size 720x576 with 1 Axes>"
            ]
          },
          "metadata": {
            "tags": []
          }
        }
      ]
    },
    {
      "cell_type": "markdown",
      "metadata": {
        "id": "tA6J7ZmQHY3-"
      },
      "source": [
        "**Comment:** The best auc score for the test data is seen when the max-depth is about 8"
      ]
    },
    {
      "cell_type": "code",
      "metadata": {
        "id": "GdKKlG9JHl7n"
      },
      "source": [
        "# best_depth = np.argmax(validation_auc)   #find the max_depth corresponding to the best AUC\n",
        "# best_auc = np.max(validation_auc)\n",
        "\n",
        "# print(f\"The depth for the best performance is: {best_depth}\")\n",
        "# print(f\"The auc for the best performance is: {best_auc}\")\n",
        "#best_params = grid.best_params_\n",
        "best_params={'max_depth': 8, 'min_samples_split': 4}"
      ],
      "execution_count": null,
      "outputs": []
    },
    {
      "cell_type": "markdown",
      "metadata": {
        "id": "mqq7WRbR1wI1"
      },
      "source": [
        "**Check for model generalization on the test data**"
      ]
    },
    {
      "cell_type": "code",
      "metadata": {
        "colab": {
          "base_uri": "https://localhost:8080/"
        },
        "id": "EUu4W_MTyYM-",
        "outputId": "f3e24fdb-4738-4d64-d5c4-ca206e441f8f"
      },
      "source": [
        "#Fit with the best max_depth and predict the test set\n",
        "tree_clf = DecisionTreeClassifier(**best_params,random_state=0)\n",
        "tree_clf.fit(X_train_preprocessed,label_encoded_y_train)"
      ],
      "execution_count": null,
      "outputs": [
        {
          "output_type": "execute_result",
          "data": {
            "text/plain": [
              "DecisionTreeClassifier(ccp_alpha=0.0, class_weight=None, criterion='gini',\n",
              "                       max_depth=8, max_features=None, max_leaf_nodes=None,\n",
              "                       min_impurity_decrease=0.0, min_impurity_split=None,\n",
              "                       min_samples_leaf=1, min_samples_split=4,\n",
              "                       min_weight_fraction_leaf=0.0, presort='deprecated',\n",
              "                       random_state=0, splitter='best')"
            ]
          },
          "metadata": {
            "tags": []
          },
          "execution_count": 49
        }
      ]
    },
    {
      "cell_type": "code",
      "metadata": {
        "colab": {
          "base_uri": "https://localhost:8080/"
        },
        "id": "xWtgZL69sZPP",
        "outputId": "0a5d959b-ae8c-4a06-d885-139cb0684d9f"
      },
      "source": [
        "#create testing predictions and probabilities\n",
        "#predict testing values\n",
        "tree_testing_predictions1= tree_clf.predict(X_test_preprocessed)\n",
        "\n",
        "#predict testing probabilities\n",
        "tree_testing_predictions_proba1 = tree_clf.predict_proba(X_test_preprocessed)\n",
        "\n",
        "#calculate testing AUC Score \n",
        "tree_testing_auc= roc_auc_score(label_encoded_y_test,tree_testing_predictions_proba1[:,1])\n",
        "tree_testing_auc"
      ],
      "execution_count": null,
      "outputs": [
        {
          "output_type": "execute_result",
          "data": {
            "text/plain": [
              "0.9268502189669794"
            ]
          },
          "metadata": {
            "tags": []
          },
          "execution_count": 50
        }
      ]
    },
    {
      "cell_type": "code",
      "metadata": {
        "colab": {
          "base_uri": "https://localhost:8080/"
        },
        "id": "oYo4c79oTt4p",
        "outputId": "7216e809-5f3d-48f4-8c0d-f52791efa1f4"
      },
      "source": [
        "#get confusion matrix\n",
        "confusion_matrix(label_encoded_y_test,tree_testing_predictions1)"
      ],
      "execution_count": null,
      "outputs": [
        {
          "output_type": "execute_result",
          "data": {
            "text/plain": [
              "array([[207835,    100],\n",
              "       [  1691,     89]])"
            ]
          },
          "metadata": {
            "tags": []
          },
          "execution_count": 51
        }
      ]
    },
    {
      "cell_type": "markdown",
      "metadata": {
        "id": "oM4gj1uWI9Tb"
      },
      "source": [
        "**XGBoost**"
      ]
    },
    {
      "cell_type": "markdown",
      "metadata": {
        "id": "w9dgdXW0q6sw"
      },
      "source": [
        "**Using Stratified K Fold Cross-Validation**"
      ]
    },
    {
      "cell_type": "code",
      "metadata": {
        "colab": {
          "base_uri": "https://localhost:8080/"
        },
        "id": "UqeVg5PynuPy",
        "outputId": "68e086e2-ff64-4f38-d364-2449decdcdf6"
      },
      "source": [
        "xgb_training_auc_list = []\n",
        "xgb_validation_auc_list=[]\n",
        "i=1\n",
        "#Split into traning and validation using Stratified KFold\n",
        "for train_index, val_index in kfold.split(X_train_preprocessed,label_encoded_y_train):\n",
        "    X_train, X_val =X_train_preprocessed[train_index], X_train_preprocessed[val_index]\n",
        "    y_train, y_val = label_encoded_y_train[train_index], label_encoded_y_train[val_index]\n",
        "\n",
        "    #initialize XGBoost\n",
        "    xgb_clf = XGBClassifier(n_jobs=-1, random_state=0)\n",
        "\n",
        "    #Fit on training data\n",
        "    eval_set = [(X_train, y_train), (X_val,y_val)]\n",
        "    xgb_clf.fit(X_train, y_train, eval_metric='auc', eval_set=eval_set , verbose=False)\n",
        "\n",
        "    #make predictions on the training and validation set \n",
        "    #training predictions\n",
        "    xgb_train_predict_proba = xgb_clf.predict_proba(X_train)\n",
        "    xgb_training_auc= roc_auc_score(y_train,xgb_train_predict_proba[:,1])\n",
        "\n",
        "    #validation predictions\n",
        "    xgb_val_predict_proba = xgb_clf.predict_proba(X_val)\n",
        "    xgb_validation_auc= roc_auc_score(y_val,xgb_val_predict_proba[:,1])\n",
        "\n",
        "    #append training and testing auc\n",
        "    xgb_training_auc_list.append(xgb_training_auc)\n",
        "    xgb_validation_auc_list.append(xgb_validation_auc)\n",
        "\n",
        "    #print training and validation auc\n",
        "    print(f\"{i}--Fold\")\n",
        "    print(f\"Training AUC: {xgb_training_auc}\")\n",
        "    print(f\"Validation AUC: {xgb_validation_auc}\")\n",
        "\n",
        "    i = i+1\n",
        "\n",
        "    print('\\n')\n",
        "\n",
        "print(f\"Mean Training AUC Score : {np.mean(xgb_training_auc_list)}\")\n",
        "print(f\"Mean Validation AUC Score : {np.mean(xgb_validation_auc_list)}\")\n"
      ],
      "execution_count": null,
      "outputs": [
        {
          "output_type": "stream",
          "text": [
            "1--Fold\n",
            "Training AUC: 0.9420943271466927\n",
            "Validation AUC: 0.942767531492123\n",
            "\n",
            "\n",
            "2--Fold\n",
            "Training AUC: 0.9436609318699236\n",
            "Validation AUC: 0.9370898379611929\n",
            "\n",
            "\n",
            "3--Fold\n",
            "Training AUC: 0.9427494301249354\n",
            "Validation AUC: 0.941265985676974\n",
            "\n",
            "\n",
            "4--Fold\n",
            "Training AUC: 0.9422069255106071\n",
            "Validation AUC: 0.9408313681714493\n",
            "\n",
            "\n",
            "5--Fold\n",
            "Training AUC: 0.9429295646580336\n",
            "Validation AUC: 0.9378643834990029\n",
            "\n",
            "\n",
            "Mean Training AUC Score : 0.9427282358620385\n",
            "Mean Validation AUC Score : 0.9399638213601482\n"
          ],
          "name": "stdout"
        }
      ]
    },
    {
      "cell_type": "markdown",
      "metadata": {
        "id": "aidjIn3Nq2Eq"
      },
      "source": [
        "**Train on the whole training datastet and Evaluate on Test Data**"
      ]
    },
    {
      "cell_type": "code",
      "metadata": {
        "colab": {
          "base_uri": "https://localhost:8080/"
        },
        "id": "CEyPqje56_8z",
        "outputId": "77bc7c6d-0da0-44e9-9ec4-34de9fafe182"
      },
      "source": [
        "xgb_clf= XGBClassifier(random_state=0, n_jobs=-1)\n",
        "eval_set = [(X_train_preprocessed, label_encoded_y_train), (X_test_preprocessed, label_encoded_y_test)]\n",
        "xgb_clf.fit(X_train_preprocessed, label_encoded_y_train, eval_metric='auc', eval_set=eval_set, verbose=True) \n",
        "\n",
        "#create training and testing predictions probabilities\n",
        "xgb_train_predictions_proba = xgb_clf.predict_proba(X_train_preprocessed)\n",
        "xgb_test_predictions_proba = xgb_clf.predict_proba(X_test_preprocessed)\n",
        "\n",
        "#create training and testing predictions\n",
        "xgb_train_predictions= xgb_clf.predict(X_train_preprocessed)\n",
        "xgb_test_predictions= xgb_clf.predict(X_test_preprocessed)\n",
        "\n",
        "#calculate training and testing AUC Scores \n",
        "xgb_train_auc= roc_auc_score(label_encoded_y_train,xgb_train_predictions_proba[:,1])\n",
        "xgb_test_auc= roc_auc_score(label_encoded_y_test,xgb_test_predictions_proba[:,1])\n",
        "\n",
        "#display the training and testing AUC\n",
        "print(f\"Training AUC: {xgb_train_auc}\")\n",
        "print(f\"Testing AUC: {xgb_test_auc}\")\n"
      ],
      "execution_count": null,
      "outputs": [
        {
          "output_type": "stream",
          "text": [
            "[0]\tvalidation_0-auc:0.863927\tvalidation_1-auc:0.864893\n",
            "[1]\tvalidation_0-auc:0.877588\tvalidation_1-auc:0.877998\n",
            "[2]\tvalidation_0-auc:0.880455\tvalidation_1-auc:0.880829\n",
            "[3]\tvalidation_0-auc:0.882729\tvalidation_1-auc:0.883\n",
            "[4]\tvalidation_0-auc:0.882721\tvalidation_1-auc:0.883043\n",
            "[5]\tvalidation_0-auc:0.883063\tvalidation_1-auc:0.883237\n",
            "[6]\tvalidation_0-auc:0.882961\tvalidation_1-auc:0.88314\n",
            "[7]\tvalidation_0-auc:0.883091\tvalidation_1-auc:0.883261\n",
            "[8]\tvalidation_0-auc:0.883182\tvalidation_1-auc:0.883409\n",
            "[9]\tvalidation_0-auc:0.883622\tvalidation_1-auc:0.883982\n",
            "[10]\tvalidation_0-auc:0.883788\tvalidation_1-auc:0.884244\n",
            "[11]\tvalidation_0-auc:0.883712\tvalidation_1-auc:0.884112\n",
            "[12]\tvalidation_0-auc:0.883724\tvalidation_1-auc:0.88411\n",
            "[13]\tvalidation_0-auc:0.884178\tvalidation_1-auc:0.88477\n",
            "[14]\tvalidation_0-auc:0.884686\tvalidation_1-auc:0.885216\n",
            "[15]\tvalidation_0-auc:0.884978\tvalidation_1-auc:0.885603\n",
            "[16]\tvalidation_0-auc:0.884907\tvalidation_1-auc:0.885581\n",
            "[17]\tvalidation_0-auc:0.887501\tvalidation_1-auc:0.888509\n",
            "[18]\tvalidation_0-auc:0.887466\tvalidation_1-auc:0.888463\n",
            "[19]\tvalidation_0-auc:0.887635\tvalidation_1-auc:0.88861\n",
            "[20]\tvalidation_0-auc:0.888647\tvalidation_1-auc:0.889482\n",
            "[21]\tvalidation_0-auc:0.890141\tvalidation_1-auc:0.890464\n",
            "[22]\tvalidation_0-auc:0.893589\tvalidation_1-auc:0.893718\n",
            "[23]\tvalidation_0-auc:0.893826\tvalidation_1-auc:0.89374\n",
            "[24]\tvalidation_0-auc:0.8945\tvalidation_1-auc:0.89398\n",
            "[25]\tvalidation_0-auc:0.894599\tvalidation_1-auc:0.894311\n",
            "[26]\tvalidation_0-auc:0.895302\tvalidation_1-auc:0.894966\n",
            "[27]\tvalidation_0-auc:0.895995\tvalidation_1-auc:0.895614\n",
            "[28]\tvalidation_0-auc:0.895914\tvalidation_1-auc:0.895599\n",
            "[29]\tvalidation_0-auc:0.8966\tvalidation_1-auc:0.896315\n",
            "[30]\tvalidation_0-auc:0.898056\tvalidation_1-auc:0.897746\n",
            "[31]\tvalidation_0-auc:0.898019\tvalidation_1-auc:0.897605\n",
            "[32]\tvalidation_0-auc:0.898929\tvalidation_1-auc:0.898087\n",
            "[33]\tvalidation_0-auc:0.900207\tvalidation_1-auc:0.899399\n",
            "[34]\tvalidation_0-auc:0.90086\tvalidation_1-auc:0.900158\n",
            "[35]\tvalidation_0-auc:0.900769\tvalidation_1-auc:0.899973\n",
            "[36]\tvalidation_0-auc:0.901348\tvalidation_1-auc:0.900352\n",
            "[37]\tvalidation_0-auc:0.901845\tvalidation_1-auc:0.90098\n",
            "[38]\tvalidation_0-auc:0.90197\tvalidation_1-auc:0.901248\n",
            "[39]\tvalidation_0-auc:0.908426\tvalidation_1-auc:0.908018\n",
            "[40]\tvalidation_0-auc:0.909297\tvalidation_1-auc:0.908816\n",
            "[41]\tvalidation_0-auc:0.909399\tvalidation_1-auc:0.909028\n",
            "[42]\tvalidation_0-auc:0.909938\tvalidation_1-auc:0.909251\n",
            "[43]\tvalidation_0-auc:0.912844\tvalidation_1-auc:0.911356\n",
            "[44]\tvalidation_0-auc:0.914655\tvalidation_1-auc:0.913651\n",
            "[45]\tvalidation_0-auc:0.916076\tvalidation_1-auc:0.91472\n",
            "[46]\tvalidation_0-auc:0.917551\tvalidation_1-auc:0.916295\n",
            "[47]\tvalidation_0-auc:0.918145\tvalidation_1-auc:0.916037\n",
            "[48]\tvalidation_0-auc:0.918174\tvalidation_1-auc:0.916307\n",
            "[49]\tvalidation_0-auc:0.91906\tvalidation_1-auc:0.916873\n",
            "[50]\tvalidation_0-auc:0.920345\tvalidation_1-auc:0.917695\n",
            "[51]\tvalidation_0-auc:0.921935\tvalidation_1-auc:0.91957\n",
            "[52]\tvalidation_0-auc:0.922653\tvalidation_1-auc:0.920494\n",
            "[53]\tvalidation_0-auc:0.923902\tvalidation_1-auc:0.922154\n",
            "[54]\tvalidation_0-auc:0.924207\tvalidation_1-auc:0.922527\n",
            "[55]\tvalidation_0-auc:0.926162\tvalidation_1-auc:0.924464\n",
            "[56]\tvalidation_0-auc:0.927175\tvalidation_1-auc:0.925297\n",
            "[57]\tvalidation_0-auc:0.928538\tvalidation_1-auc:0.926549\n",
            "[58]\tvalidation_0-auc:0.928903\tvalidation_1-auc:0.926787\n",
            "[59]\tvalidation_0-auc:0.93002\tvalidation_1-auc:0.927911\n",
            "[60]\tvalidation_0-auc:0.930603\tvalidation_1-auc:0.928324\n",
            "[61]\tvalidation_0-auc:0.931457\tvalidation_1-auc:0.929214\n",
            "[62]\tvalidation_0-auc:0.932162\tvalidation_1-auc:0.929775\n",
            "[63]\tvalidation_0-auc:0.932692\tvalidation_1-auc:0.930282\n",
            "[64]\tvalidation_0-auc:0.933382\tvalidation_1-auc:0.930834\n",
            "[65]\tvalidation_0-auc:0.933814\tvalidation_1-auc:0.931397\n",
            "[66]\tvalidation_0-auc:0.934435\tvalidation_1-auc:0.932217\n",
            "[67]\tvalidation_0-auc:0.934766\tvalidation_1-auc:0.93258\n",
            "[68]\tvalidation_0-auc:0.935216\tvalidation_1-auc:0.932903\n",
            "[69]\tvalidation_0-auc:0.935626\tvalidation_1-auc:0.933259\n",
            "[70]\tvalidation_0-auc:0.935917\tvalidation_1-auc:0.933474\n",
            "[71]\tvalidation_0-auc:0.936287\tvalidation_1-auc:0.933758\n",
            "[72]\tvalidation_0-auc:0.936658\tvalidation_1-auc:0.934021\n",
            "[73]\tvalidation_0-auc:0.93703\tvalidation_1-auc:0.934375\n",
            "[74]\tvalidation_0-auc:0.937471\tvalidation_1-auc:0.93473\n",
            "[75]\tvalidation_0-auc:0.937776\tvalidation_1-auc:0.93508\n",
            "[76]\tvalidation_0-auc:0.938171\tvalidation_1-auc:0.935472\n",
            "[77]\tvalidation_0-auc:0.938281\tvalidation_1-auc:0.935564\n",
            "[78]\tvalidation_0-auc:0.938618\tvalidation_1-auc:0.935795\n",
            "[79]\tvalidation_0-auc:0.939017\tvalidation_1-auc:0.936081\n",
            "[80]\tvalidation_0-auc:0.939259\tvalidation_1-auc:0.936316\n",
            "[81]\tvalidation_0-auc:0.939454\tvalidation_1-auc:0.936481\n",
            "[82]\tvalidation_0-auc:0.939659\tvalidation_1-auc:0.936709\n",
            "[83]\tvalidation_0-auc:0.939819\tvalidation_1-auc:0.936871\n",
            "[84]\tvalidation_0-auc:0.940091\tvalidation_1-auc:0.93707\n",
            "[85]\tvalidation_0-auc:0.940243\tvalidation_1-auc:0.937236\n",
            "[86]\tvalidation_0-auc:0.940396\tvalidation_1-auc:0.937319\n",
            "[87]\tvalidation_0-auc:0.940524\tvalidation_1-auc:0.937447\n",
            "[88]\tvalidation_0-auc:0.940719\tvalidation_1-auc:0.937606\n",
            "[89]\tvalidation_0-auc:0.941084\tvalidation_1-auc:0.937925\n",
            "[90]\tvalidation_0-auc:0.941235\tvalidation_1-auc:0.938095\n",
            "[91]\tvalidation_0-auc:0.941525\tvalidation_1-auc:0.93834\n",
            "[92]\tvalidation_0-auc:0.94165\tvalidation_1-auc:0.938413\n",
            "[93]\tvalidation_0-auc:0.941857\tvalidation_1-auc:0.938508\n",
            "[94]\tvalidation_0-auc:0.94203\tvalidation_1-auc:0.938662\n",
            "[95]\tvalidation_0-auc:0.942138\tvalidation_1-auc:0.938757\n",
            "[96]\tvalidation_0-auc:0.942195\tvalidation_1-auc:0.938752\n",
            "[97]\tvalidation_0-auc:0.942434\tvalidation_1-auc:0.938961\n",
            "[98]\tvalidation_0-auc:0.942522\tvalidation_1-auc:0.939036\n",
            "[99]\tvalidation_0-auc:0.942585\tvalidation_1-auc:0.939093\n",
            "Training AUC: 0.9425849422410255\n",
            "Testing AUC: 0.9390930182103687\n"
          ],
          "name": "stdout"
        }
      ]
    },
    {
      "cell_type": "markdown",
      "metadata": {
        "id": "SqyCi3stGqAp"
      },
      "source": [
        "**Visualize result**"
      ]
    },
    {
      "cell_type": "code",
      "metadata": {
        "colab": {
          "base_uri": "https://localhost:8080/",
          "height": 362
        },
        "id": "tmGxEV4NGBL7",
        "outputId": "231a1ec7-cbec-4b78-ed0b-3e44e24c8e43"
      },
      "source": [
        "#Evaluate result\n",
        "results = xgb_clf.evals_result()\n",
        "epochs = len(results['validation_0']['auc'])\n",
        "x_axis = range(0, epochs)\n",
        "\n",
        "# plot auc score \n",
        "fig, ax = plt.subplots()\n",
        "ax.plot(x_axis, results['validation_0']['auc'], label='Train')\n",
        "ax.plot(x_axis, results['validation_1']['auc'], label='Test')\n",
        "ax.legend()\n",
        "plt.ylabel('auc_score')\n",
        "plt.title('XGBoost AUC score against EPOCH')\n",
        "plt.show()\n"
      ],
      "execution_count": null,
      "outputs": [
        {
          "output_type": "display_data",
          "data": {
            "image/png": "[encoded data removed]",
            "text/plain": [
              "<Figure size 576x396 with 1 Axes>"
            ]
          },
          "metadata": {
            "tags": []
          }
        }
      ]
    },
    {
      "cell_type": "code",
      "metadata": {
        "colab": {
          "base_uri": "https://localhost:8080/",
          "height": 375
        },
        "id": "2NwnRL3YGOCB",
        "outputId": "8bd88521-d762-43e4-a3ae-342fae3c3758"
      },
      "source": [
        "#plot ROC Curve\n",
        "# roc curve for models\n",
        "fpr_xgb_test, tpr_xgb_test, thresh1 = roc_curve(label_encoded_y_test, xgb_test_predictions_proba[:,1], pos_label=1)\n",
        "fpr_xgb_train, tpr_xgb_train, thresh2 = roc_curve(label_encoded_y_train, xgb_train_predictions_proba[:,1], pos_label=1)\n",
        "\n",
        "# # roc curve for tpr = fpr \n",
        "# random_probs = [0 for i in range(len(label_encoded_y_test))]\n",
        "# # p_fpr, p_tpr, _ = roc_curve(label_encoded_y_test, random_probs, pos_label=1)\n",
        "\n",
        "#plot\n",
        "#plt.figure(figsize=(10,8))\n",
        "plt.plot(fpr_xgb_test, tpr_xgb_test, linestyle='--',color='orange', label='Testing AUC')\n",
        "plt.plot(fpr_xgb_train, tpr_xgb_train, linestyle='--',color='green', label='Training AUC')\n",
        "plt.plot(p_fpr, p_tpr, linestyle='--', color='blue')\n",
        "# # title\n",
        "plt.title('XGBoost ROC curve')\n",
        "# # x label\n",
        "plt.xlabel('False Positive Rate')\n",
        "# # y label\n",
        "plt.ylabel('True Positive rate')\n",
        "\n",
        "plt.legend(loc='best')\n",
        "plt.savefig('XGB_ROC',dpi=300)\n",
        "plt.show();"
      ],
      "execution_count": null,
      "outputs": [
        {
          "output_type": "display_data",
          "data": {
            "image/png": "[encoded data removed]",
            "text/plain": [
              "<Figure size 576x396 with 1 Axes>"
            ]
          },
          "metadata": {
            "tags": []
          }
        }
      ]
    },
    {
      "cell_type": "markdown",
      "metadata": {
        "id": "6ZrZ5qdLc0BD"
      },
      "source": [
        "**Feature Selection**"
      ]
    },
    {
      "cell_type": "code",
      "metadata": {
        "colab": {
          "base_uri": "https://localhost:8080/",
          "height": 393
        },
        "id": "Nem6IsvYcxD5",
        "outputId": "44279762-d717-40ac-b356-8762780115bc"
      },
      "source": [
        "from xgboost import plot_importance\n",
        "\n",
        "##plot mportant features\n",
        "plot_importance(xgb_clf)"
      ],
      "execution_count": null,
      "outputs": [
        {
          "output_type": "execute_result",
          "data": {
            "text/plain": [
              "<matplotlib.axes._subplots.AxesSubplot at 0x7f3185fede10>"
            ]
          },
          "metadata": {
            "tags": []
          },
          "execution_count": 56
        },
        {
          "output_type": "display_data",
          "data": {
            "image/png": "[encoded data removed]",
            "text/plain": [
              "<Figure size 576x396 with 1 Axes>"
            ]
          },
          "metadata": {
            "tags": []
          }
        }
      ]
    },
    {
      "cell_type": "code",
      "metadata": {
        "colab": {
          "base_uri": "https://localhost:8080/"
        },
        "id": "-y-_koV0iWs3",
        "outputId": "fb9ae518-0703-4221-f91d-d445f89c9108"
      },
      "source": [
        "xgb_clf.feature_importances_"
      ],
      "execution_count": null,
      "outputs": [
        {
          "output_type": "execute_result",
          "data": {
            "text/plain": [
              "array([0.        , 0.        , 0.02149611, 0.        , 0.        ,\n",
              "       0.        , 0.        , 0.        , 0.01562063, 0.        ,\n",
              "       0.        , 0.        , 0.02822265, 0.01977047, 0.03642733,\n",
              "       0.02560205, 0.1321219 , 0.0772402 , 0.02275133, 0.02294502,\n",
              "       0.08069468, 0.11607563, 0.08932823, 0.08581034, 0.02688252,\n",
              "       0.13663082, 0.06238013], dtype=float32)"
            ]
          },
          "metadata": {
            "tags": []
          },
          "execution_count": 57
        }
      ]
    },
    {
      "cell_type": "markdown",
      "metadata": {
        "id": "p9kKoKf0HIWi"
      },
      "source": [
        "**Tune Hyperparameters**\n",
        "\n",
        "\n",
        "\n",
        "First approach  : Tune individual parameters"
      ]
    },
    {
      "cell_type": "markdown",
      "metadata": {
        "id": "pIvHdrK79NAA"
      },
      "source": [
        "***Number of Trees***"
      ]
    },
    {
      "cell_type": "code",
      "metadata": {
        "id": "QpatPHXj9K7B"
      },
      "source": [
        "n_estimators = range(50, 400, 50)\n",
        "param_grid = dict(n_estimators=n_estimators)"
      ],
      "execution_count": null,
      "outputs": []
    },
    {
      "cell_type": "code",
      "metadata": {
        "id": "jOid1nRIJbWh"
      },
      "source": [
        "model = XGBClassifier(random_state=0,n_jobs=-1, seed=0)\n",
        "xgb_grid = GridSearchCV(model, param_grid = param_grid, cv=kfold , scoring= 'roc_auc', n_jobs=-1)\n",
        "xgb_grid.fit(X_train_preprocessed,label_encoded_y_train)\n",
        "xgb_grid.best_params_"
      ],
      "execution_count": null,
      "outputs": []
    },
    {
      "cell_type": "markdown",
      "metadata": {
        "id": "Uf_SNkCRg5d-"
      },
      "source": [
        "{'n_estimators': 350}"
      ]
    },
    {
      "cell_type": "code",
      "metadata": {
        "id": "RS6_hkS_KguO"
      },
      "source": [
        "# summarize results\n",
        "print(\"Best: %f using %s\" % (xgb_grid.best_score_, xgb_grid.best_params_))\n",
        "means = xgb_grid.cv_results_['mean_test_score']\n",
        "stds = xgb_grid.cv_results_['std_test_score']\n",
        "params = xgb_grid.cv_results_['params']\n",
        "for mean, stdev, param in zip(means, stds, params):\n",
        "   print(\"%f (%f) with: %r\" % (mean, stdev, param))\n",
        " # plot\n",
        "plt.errorbar(n_estimators, means, yerr=stds)\n",
        "plt.title(\"XGBoost n_estimators vs AUC\")\n",
        "plt.xlabel('n_estimators')\n",
        "plt.ylabel('AUC Score')\n",
        "plt.savefig('n_estimators.png')"
      ],
      "execution_count": null,
      "outputs": []
    },
    {
      "cell_type": "markdown",
      "metadata": {
        "id": "6Ffg1PNjmmye"
      },
      "source": [
        "**Tune Maximum Depth and Number of Estimators**"
      ]
    },
    {
      "cell_type": "code",
      "metadata": {
        "id": "bEA0NpTYmsEz"
      },
      "source": [
        "max_depth = [3,4,5,6,7,8,9]\n",
        "print(max_depth)\n",
        "param_grid = dict(max_depth=max_depth, n_estimators =[100,150,200,250,300])\n",
        "\n",
        "model = XGBClassifier(random_state=0,n_jobs=-1, seed=0)\n",
        "xgb_grid = GridSearchCV(model, param_grid = param_grid, cv=kfold , scoring= 'roc_auc', n_jobs=-1)\n",
        "xgb_grid.fit(X_train_preprocessed,label_encoded_y_train)\n",
        "xgb_grid.best_params_\n"
      ],
      "execution_count": null,
      "outputs": []
    },
    {
      "cell_type": "code",
      "metadata": {
        "id": "8LDfyl7YAzQS"
      },
      "source": [
        "# summarize results\n",
        "print(\"Best: %f using %s\" % (xgb_grid.best_score_, xgb_grid.best_params_))\n",
        "means = xgb_grid.cv_results_['mean_test_score']\n",
        "stds = xgb_grid.cv_results_['std_test_score']\n",
        "params = xgb_grid.cv_results_['params']\n",
        "for mean, stdev, param in zip(means, stds, params):\n",
        "   print(\"%f (%f) with: %r\" % (mean, stdev, param))\n",
        "\n",
        "# plot Error bar\n",
        "plt.errorbar(n_estimators, means, yerr=stds)\n",
        "plt.title(\"XGBoost Maximum depth vs AUC\")\n",
        "plt.xlabel('Maximum Depth')\n",
        "plt.ylabel('AUC Score')\n",
        "plt.savefig('Max_depth.png')"
      ],
      "execution_count": null,
      "outputs": []
    },
    {
      "cell_type": "code",
      "metadata": {
        "id": "njZYezRyCDFu"
      },
      "source": [
        "max_depth : range(1, 11, 2)\n",
        "Best: 0.961249 using {'max_depth': 9}\n",
        "0.914056 (0.002648) with: {'max_depth': 1}\n",
        "0.939964 (0.002144) with: {'max_depth': 3}\n",
        "0.947964 (0.002323) with: {'max_depth': 5}\n",
        "0.955014 (0.001771) with: {'max_depth': 7}\n",
        "0.961249 (0.001529) with: {'max_depth': 9}"
      ],
      "execution_count": null,
      "outputs": []
    },
    {
      "cell_type": "code",
      "metadata": {
        "id": "5JyMp7hvgzDJ"
      },
      "source": [
        "model1 = XGBClassifier(n_estimators=350,,random_state=0 , n_jobs=-1 , seed=0)\n",
        "cross_val_score(model1,X_train_preprocessed,label_encoded_y_train,cv=kfold, scoring='roc_auc').mean()"
      ],
      "execution_count": null,
      "outputs": []
    },
    {
      "cell_type": "markdown",
      "metadata": {
        "id": "yICyETb_AZK6"
      },
      "source": [
        "**Tune all parameters at once** \n",
        "\n",
        "This has a high computational cost"
      ]
    },
    {
      "cell_type": "code",
      "metadata": {
        "id": "8M5kXX-P_mFf"
      },
      "source": [
        "param_grid = {'max_depth':[1,2,3,4,5], \n",
        "           'learning_rate':[0.001, 0.01,0.05, 0.10, 0.15, 0.20, 0.25, 0.30 ], \n",
        "           'n_estimators':[5,10,20,30,40,50,100,150], \n",
        "           'min_child_weight':[1,3,5,7],\n",
        "           'subsample':[0.5,0.6,0.7,0.8,0.9,1.0], \n",
        "           'colsample_bytree':[ 0.3, 0.4, 0.5 ,0.6, 0.7,0.8,0.9,1.0 ], \n",
        "           'gamma':[0,0.1,0.2]}"
      ],
      "execution_count": null,
      "outputs": []
    },
    {
      "cell_type": "markdown",
      "metadata": {
        "id": "qqbKxkM_u21H"
      },
      "source": [
        "**Random Forest**"
      ]
    },
    {
      "cell_type": "code",
      "metadata": {
        "colab": {
          "base_uri": "https://localhost:8080/"
        },
        "id": "Jd86qjd3X8PF",
        "outputId": "082d5f26-9a4f-4dd5-df2d-edd6575bd2ae"
      },
      "source": [
        "# Split the training dataset into training and validation dataset\n",
        "#using a stratified CV=5\n",
        "rfc_training_auc_list = []\n",
        "rfc_validation_auc_list = []\n",
        "\n",
        "#For each folds in Kfolds, selects n-1 folds as the training set and the last fold as the validation set\n",
        "for train_index, val_index in kfold.split(X_train_preprocessed,label_encoded_y_train):\n",
        "    X_train_cv, X_val_cv =X_train_preprocessed[train_index], X_train_preprocessed[val_index]\n",
        "    y_train_cv, y_val_cv = label_encoded_y_train[train_index], label_encoded_y_train[val_index]\n",
        "  \n",
        "    #initialize logistic regression\n",
        "    rfc= RandomForestClassifier(random_state=0 , verbose=1, n_jobs=-1)\n",
        "\n",
        "    #Training with the training split \n",
        "    rfc.fit(X_train_cv,y_train_cv)\n",
        "\n",
        "    #create training and validation predictions probabilities\n",
        "    rfc_train_predictions_proba = rfc.predict_proba(X_train_cv)\n",
        "    rfc_val_predictions_proba = rfc.predict_proba(X_val_cv)\n",
        "\n",
        "    #create training and validation predictions \n",
        "    rfc_train_predictions= rfc.predict(X_train_cv)\n",
        "    rfc_val_predictions= rfc.predict(X_val_cv)\n",
        "                                     \n",
        "    #calculate testing AUC Scores\n",
        "    # We chose AUC because of the imbalance dataset\n",
        "    rfc_training_auc= roc_auc_score(y_train_cv,rfc_train_predictions_proba[:,1])\n",
        "    rfc_validation_auc= roc_auc_score(y_val_cv,rfc_val_predictions_proba[:,1])\n",
        "\n",
        "    #append training and validation auc into list\n",
        "    rfc_training_auc_list.append(rfc_training_auc)\n",
        "    rfc_validation_auc_list.append(rfc_validation_auc)\n",
        "\n",
        "    #view the training and validation AUC\n",
        "    print(f'Training AUC: {rfc_training_auc}')\n",
        "    print(f'Validation AUC: {rfc_validation_auc}')\n",
        "\n",
        "print('\\n')\n",
        "\n",
        "\n",
        "#view training and validation auc\n",
        "print(f'Training AUC List: {rfc_training_auc_list}')\n",
        "print(f'Validation AUC List: {rfc_validation_auc_list}')\n",
        "\n",
        "print('\\n')\n",
        "#Get the mean training and validtaion auc score\n",
        "print(f'Mean training auc score: {np.mean(rfc_training_auc_list)}')\n",
        "print(f'Mean validation auc score: {np.mean(rfc_validation_auc_list)}')"
      ],
      "execution_count": null,
      "outputs": [
        {
          "output_type": "stream",
          "text": [
            "[Parallel(n_jobs=-1)]: Using backend ThreadingBackend with 2 concurrent workers.\n",
            "[Parallel(n_jobs=-1)]: Done  46 tasks      | elapsed:   35.9s\n",
            "[Parallel(n_jobs=-1)]: Done 100 out of 100 | elapsed:  1.3min finished\n",
            "[Parallel(n_jobs=2)]: Using backend ThreadingBackend with 2 concurrent workers.\n",
            "[Parallel(n_jobs=2)]: Done  46 tasks      | elapsed:    3.6s\n",
            "[Parallel(n_jobs=2)]: Done 100 out of 100 | elapsed:    7.9s finished\n",
            "[Parallel(n_jobs=2)]: Using backend ThreadingBackend with 2 concurrent workers.\n",
            "[Parallel(n_jobs=2)]: Done  46 tasks      | elapsed:    0.9s\n",
            "[Parallel(n_jobs=2)]: Done 100 out of 100 | elapsed:    2.0s finished\n",
            "[Parallel(n_jobs=2)]: Using backend ThreadingBackend with 2 concurrent workers.\n",
            "[Parallel(n_jobs=2)]: Done  46 tasks      | elapsed:    3.6s\n",
            "[Parallel(n_jobs=2)]: Done 100 out of 100 | elapsed:    7.8s finished\n",
            "[Parallel(n_jobs=2)]: Using backend ThreadingBackend with 2 concurrent workers.\n",
            "[Parallel(n_jobs=2)]: Done  46 tasks      | elapsed:    0.9s\n",
            "[Parallel(n_jobs=2)]: Done 100 out of 100 | elapsed:    2.0s finished\n"
          ],
          "name": "stderr"
        },
        {
          "output_type": "stream",
          "text": [
            "Training AUC: 0.9993920586484392\n",
            "Validation AUC: 0.9561887912553972\n"
          ],
          "name": "stdout"
        },
        {
          "output_type": "stream",
          "text": [
            "[Parallel(n_jobs=-1)]: Using backend ThreadingBackend with 2 concurrent workers.\n",
            "[Parallel(n_jobs=-1)]: Done  46 tasks      | elapsed:   38.9s\n",
            "[Parallel(n_jobs=-1)]: Done 100 out of 100 | elapsed:  1.4min finished\n",
            "[Parallel(n_jobs=2)]: Using backend ThreadingBackend with 2 concurrent workers.\n",
            "[Parallel(n_jobs=2)]: Done  46 tasks      | elapsed:    3.6s\n",
            "[Parallel(n_jobs=2)]: Done 100 out of 100 | elapsed:    7.8s finished\n",
            "[Parallel(n_jobs=2)]: Using backend ThreadingBackend with 2 concurrent workers.\n",
            "[Parallel(n_jobs=2)]: Done  46 tasks      | elapsed:    0.9s\n",
            "[Parallel(n_jobs=2)]: Done 100 out of 100 | elapsed:    2.0s finished\n",
            "[Parallel(n_jobs=2)]: Using backend ThreadingBackend with 2 concurrent workers.\n",
            "[Parallel(n_jobs=2)]: Done  46 tasks      | elapsed:    3.6s\n",
            "[Parallel(n_jobs=2)]: Done 100 out of 100 | elapsed:    7.8s finished\n",
            "[Parallel(n_jobs=2)]: Using backend ThreadingBackend with 2 concurrent workers.\n",
            "[Parallel(n_jobs=2)]: Done  46 tasks      | elapsed:    0.9s\n",
            "[Parallel(n_jobs=2)]: Done 100 out of 100 | elapsed:    2.0s finished\n"
          ],
          "name": "stderr"
        },
        {
          "output_type": "stream",
          "text": [
            "Training AUC: 0.9994502213829752\n",
            "Validation AUC: 0.9512194450621048\n"
          ],
          "name": "stdout"
        },
        {
          "output_type": "stream",
          "text": [
            "[Parallel(n_jobs=-1)]: Using backend ThreadingBackend with 2 concurrent workers.\n",
            "[Parallel(n_jobs=-1)]: Done  46 tasks      | elapsed:   39.8s\n",
            "[Parallel(n_jobs=-1)]: Done 100 out of 100 | elapsed:  1.4min finished\n",
            "[Parallel(n_jobs=2)]: Using backend ThreadingBackend with 2 concurrent workers.\n",
            "[Parallel(n_jobs=2)]: Done  46 tasks      | elapsed:    3.5s\n",
            "[Parallel(n_jobs=2)]: Done 100 out of 100 | elapsed:    7.7s finished\n",
            "[Parallel(n_jobs=2)]: Using backend ThreadingBackend with 2 concurrent workers.\n",
            "[Parallel(n_jobs=2)]: Done  46 tasks      | elapsed:    0.9s\n",
            "[Parallel(n_jobs=2)]: Done 100 out of 100 | elapsed:    2.0s finished\n",
            "[Parallel(n_jobs=2)]: Using backend ThreadingBackend with 2 concurrent workers.\n",
            "[Parallel(n_jobs=2)]: Done  46 tasks      | elapsed:    3.6s\n",
            "[Parallel(n_jobs=2)]: Done 100 out of 100 | elapsed:    7.8s finished\n",
            "[Parallel(n_jobs=2)]: Using backend ThreadingBackend with 2 concurrent workers.\n",
            "[Parallel(n_jobs=2)]: Done  46 tasks      | elapsed:    0.9s\n",
            "[Parallel(n_jobs=2)]: Done 100 out of 100 | elapsed:    2.0s finished\n"
          ],
          "name": "stderr"
        },
        {
          "output_type": "stream",
          "text": [
            "Training AUC: 0.9994920042212001\n",
            "Validation AUC: 0.9559050310091772\n"
          ],
          "name": "stdout"
        },
        {
          "output_type": "stream",
          "text": [
            "[Parallel(n_jobs=-1)]: Using backend ThreadingBackend with 2 concurrent workers.\n",
            "[Parallel(n_jobs=-1)]: Done  46 tasks      | elapsed:   39.8s\n",
            "[Parallel(n_jobs=-1)]: Done 100 out of 100 | elapsed:  1.3min finished\n",
            "[Parallel(n_jobs=2)]: Using backend ThreadingBackend with 2 concurrent workers.\n",
            "[Parallel(n_jobs=2)]: Done  46 tasks      | elapsed:    3.6s\n",
            "[Parallel(n_jobs=2)]: Done 100 out of 100 | elapsed:    7.7s finished\n",
            "[Parallel(n_jobs=2)]: Using backend ThreadingBackend with 2 concurrent workers.\n",
            "[Parallel(n_jobs=2)]: Done  46 tasks      | elapsed:    0.9s\n",
            "[Parallel(n_jobs=2)]: Done 100 out of 100 | elapsed:    2.0s finished\n",
            "[Parallel(n_jobs=2)]: Using backend ThreadingBackend with 2 concurrent workers.\n",
            "[Parallel(n_jobs=2)]: Done  46 tasks      | elapsed:    3.6s\n",
            "[Parallel(n_jobs=2)]: Done 100 out of 100 | elapsed:    7.8s finished\n",
            "[Parallel(n_jobs=2)]: Using backend ThreadingBackend with 2 concurrent workers.\n",
            "[Parallel(n_jobs=2)]: Done  46 tasks      | elapsed:    0.9s\n",
            "[Parallel(n_jobs=2)]: Done 100 out of 100 | elapsed:    2.0s finished\n"
          ],
          "name": "stderr"
        },
        {
          "output_type": "stream",
          "text": [
            "Training AUC: 0.999426318676084\n",
            "Validation AUC: 0.9540783178279567\n"
          ],
          "name": "stdout"
        },
        {
          "output_type": "stream",
          "text": [
            "[Parallel(n_jobs=-1)]: Using backend ThreadingBackend with 2 concurrent workers.\n",
            "[Parallel(n_jobs=-1)]: Done  46 tasks      | elapsed:   40.3s\n",
            "[Parallel(n_jobs=-1)]: Done 100 out of 100 | elapsed:  1.4min finished\n",
            "[Parallel(n_jobs=2)]: Using backend ThreadingBackend with 2 concurrent workers.\n",
            "[Parallel(n_jobs=2)]: Done  46 tasks      | elapsed:    3.6s\n",
            "[Parallel(n_jobs=2)]: Done 100 out of 100 | elapsed:    7.7s finished\n",
            "[Parallel(n_jobs=2)]: Using backend ThreadingBackend with 2 concurrent workers.\n",
            "[Parallel(n_jobs=2)]: Done  46 tasks      | elapsed:    0.9s\n",
            "[Parallel(n_jobs=2)]: Done 100 out of 100 | elapsed:    2.0s finished\n",
            "[Parallel(n_jobs=2)]: Using backend ThreadingBackend with 2 concurrent workers.\n",
            "[Parallel(n_jobs=2)]: Done  46 tasks      | elapsed:    3.6s\n",
            "[Parallel(n_jobs=2)]: Done 100 out of 100 | elapsed:    7.8s finished\n",
            "[Parallel(n_jobs=2)]: Using backend ThreadingBackend with 2 concurrent workers.\n",
            "[Parallel(n_jobs=2)]: Done  46 tasks      | elapsed:    0.9s\n"
          ],
          "name": "stderr"
        },
        {
          "output_type": "stream",
          "text": [
            "Training AUC: 0.9994410230109266\n",
            "Validation AUC: 0.954177781879628\n",
            "\n",
            "\n",
            "Training AUC List: [0.9993920586484392, 0.9994502213829752, 0.9994920042212001, 0.999426318676084, 0.9994410230109266]\n",
            "Validation AUC List: [0.9561887912553972, 0.9512194450621048, 0.9559050310091772, 0.9540783178279567, 0.954177781879628]\n",
            "\n",
            "\n",
            "Mean training auc score: 0.999440325187925\n",
            "Mean validation auc score: 0.9543138734068528\n"
          ],
          "name": "stdout"
        },
        {
          "output_type": "stream",
          "text": [
            "[Parallel(n_jobs=2)]: Done 100 out of 100 | elapsed:    2.0s finished\n"
          ],
          "name": "stderr"
        }
      ]
    },
    {
      "cell_type": "markdown",
      "metadata": {
        "id": "9aLp5tePZHaD"
      },
      "source": [
        "**Train on whole training set and predict on the test set**"
      ]
    },
    {
      "cell_type": "code",
      "metadata": {
        "colab": {
          "base_uri": "https://localhost:8080/"
        },
        "id": "iAAJRhUnu5rX",
        "outputId": "9909dddd-1295-43a4-d5ec-da2516c74229"
      },
      "source": [
        "#initiate a random forest classifier\n",
        "rf_clf = RandomForestClassifier(random_state=0 , verbose=1, n_jobs=-1)\n",
        "\n",
        "#fit on the training dataset\n",
        "rf_clf.fit(X_train_preprocessed,label_encoded_y_train)\n",
        "\n",
        "#create training and testing predictions probabilities\n",
        "rf_clf_train_predictions_proba = rf_clf.predict_proba(X_train_preprocessed)\n",
        "rf_clf_test_predictions_proba = rf_clf.predict_proba(X_test_preprocessed)\n",
        "\n",
        "#create training and testing predictions\n",
        "rf_clf_train_predictions= rf_clf.predict(X_train_preprocessed)\n",
        "rf_clf_test_predictions= rf_clf.predict(X_test_preprocessed)\n",
        "\n",
        "#calculate training and testing AUC Scores \n",
        "rf_clf_train_auc= roc_auc_score(label_encoded_y_train,rf_clf_train_predictions_proba[:,1])\n",
        "rf_clf_test_auc= roc_auc_score(label_encoded_y_test,rf_clf_test_predictions_proba[:,1])\n",
        "\n",
        "#display the training and testing AUC\n",
        "print(f\"Training AUC: {rf_clf_train_auc}\")\n",
        "print(f\"Testing AUC: {rf_clf_test_auc}\")\n"
      ],
      "execution_count": null,
      "outputs": [
        {
          "output_type": "stream",
          "text": [
            "[Parallel(n_jobs=-1)]: Using backend ThreadingBackend with 2 concurrent workers.\n",
            "[Parallel(n_jobs=-1)]: Done  46 tasks      | elapsed:   47.2s\n",
            "[Parallel(n_jobs=-1)]: Done 100 out of 100 | elapsed:  1.7min finished\n",
            "[Parallel(n_jobs=2)]: Using backend ThreadingBackend with 2 concurrent workers.\n",
            "[Parallel(n_jobs=2)]: Done  46 tasks      | elapsed:    4.6s\n",
            "[Parallel(n_jobs=2)]: Done 100 out of 100 | elapsed:   10.0s finished\n",
            "[Parallel(n_jobs=2)]: Using backend ThreadingBackend with 2 concurrent workers.\n",
            "[Parallel(n_jobs=2)]: Done  46 tasks      | elapsed:    1.2s\n",
            "[Parallel(n_jobs=2)]: Done 100 out of 100 | elapsed:    2.5s finished\n",
            "[Parallel(n_jobs=2)]: Using backend ThreadingBackend with 2 concurrent workers.\n",
            "[Parallel(n_jobs=2)]: Done  46 tasks      | elapsed:    4.6s\n",
            "[Parallel(n_jobs=2)]: Done 100 out of 100 | elapsed:   10.0s finished\n",
            "[Parallel(n_jobs=2)]: Using backend ThreadingBackend with 2 concurrent workers.\n",
            "[Parallel(n_jobs=2)]: Done  46 tasks      | elapsed:    1.2s\n",
            "[Parallel(n_jobs=2)]: Done 100 out of 100 | elapsed:    2.6s finished\n"
          ],
          "name": "stderr"
        },
        {
          "output_type": "stream",
          "text": [
            "Training AUC: 0.9994350728086483\n",
            "Testing AUC: 0.9637549804214423\n"
          ],
          "name": "stdout"
        }
      ]
    },
    {
      "cell_type": "markdown",
      "metadata": {
        "id": "S0ZskI1QZ80U"
      },
      "source": [
        "**Plot ROC Curve**"
      ]
    },
    {
      "cell_type": "code",
      "metadata": {
        "colab": {
          "base_uri": "https://localhost:8080/",
          "height": 375
        },
        "id": "n-5B80wzaAGc",
        "outputId": "d767cdb6-2fe9-4a9b-e2d3-83ded10a5bdc"
      },
      "source": [
        "from sklearn.metrics import roc_curve\n",
        "\n",
        "#plot ROC Curve\n",
        "# roc curve for models\n",
        "fpr_rfc_test, tpr_rfc_test, thresh1 = roc_curve(label_encoded_y_test, rf_clf_test_predictions_proba[:,1], pos_label=1)\n",
        "fpr_rfc_train, tpr_rfc_train, thresh2 = roc_curve(label_encoded_y_train, rf_clf_train_predictions_proba[:,1], pos_label=1)\n",
        "\n",
        "# # roc curve for tpr = fpr \n",
        "# random_probs = [0 for i in range(len(label_encoded_y_test))]\n",
        "# # p_fpr, p_tpr, _ = roc_curve(label_encoded_y_test, random_probs, pos_label=1)\n",
        "\n",
        "#plot\n",
        "#plt.figure(figsize=(10,8))\n",
        "plt.plot(fpr_rfc_test, tpr_rfc_test, linestyle='--',color='orange', label='Testing AUC')\n",
        "plt.plot(fpr_rfc_train, tpr_rfc_train, linestyle='--',color='green', label='Training AUC')\n",
        "plt.plot(p_fpr, p_tpr, linestyle='--', color='blue')\n",
        "# # title\n",
        "plt.title('Random Forest ROC curve')\n",
        "# # x label\n",
        "plt.xlabel('False Positive Rate')\n",
        "# # y label\n",
        "plt.ylabel('True Positive rate')\n",
        "\n",
        "plt.legend(loc='best')\n",
        "plt.savefig('rfc_ROC',dpi=300)\n",
        "plt.show();"
      ],
      "execution_count": null,
      "outputs": [
        {
          "output_type": "display_data",
          "data": {
            "image/png": "[encoded data removed]",
            "text/plain": [
              "<Figure size 576x396 with 1 Axes>"
            ]
          },
          "metadata": {
            "tags": []
          }
        }
      ]
    },
    {
      "cell_type": "code",
      "metadata": {
        "colab": {
          "base_uri": "https://localhost:8080/"
        },
        "id": "Dok-9x5Eomuh",
        "outputId": "ca37ffa3-3d67-4c81-8d28-8b246a9e5755"
      },
      "source": [
        "#get the confusion matrix \n",
        "confusion_matrix(label_encoded_y_test,rf_clf_test_predictions)"
      ],
      "execution_count": null,
      "outputs": [
        {
          "output_type": "execute_result",
          "data": {
            "text/plain": [
              "array([[207870,     65],\n",
              "       [  1294,    486]])"
            ]
          },
          "metadata": {
            "tags": []
          },
          "execution_count": 61
        }
      ]
    },
    {
      "cell_type": "code",
      "metadata": {
        "colab": {
          "base_uri": "https://localhost:8080/",
          "height": 432
        },
        "id": "2jEorRTJvRs7",
        "outputId": "bb9c92eb-dab9-453b-a147-729cca07def8"
      },
      "source": [
        "#plot the precision recall curve\n",
        "plot_precision_recall_curve(rf_clf,X_train_preprocessed, label_encoded_y_train)"
      ],
      "execution_count": null,
      "outputs": [
        {
          "output_type": "stream",
          "text": [
            "[Parallel(n_jobs=2)]: Using backend ThreadingBackend with 2 concurrent workers.\n",
            "[Parallel(n_jobs=2)]: Done  46 tasks      | elapsed:    4.6s\n",
            "[Parallel(n_jobs=2)]: Done 100 out of 100 | elapsed:    9.8s finished\n"
          ],
          "name": "stderr"
        },
        {
          "output_type": "execute_result",
          "data": {
            "text/plain": [
              "<sklearn.metrics._plot.precision_recall_curve.PrecisionRecallDisplay at 0x7f3185e1f1d0>"
            ]
          },
          "metadata": {
            "tags": []
          },
          "execution_count": 63
        },
        {
          "output_type": "display_data",
          "data": {
            "image/png": "[encoded data removed]",
            "text/plain": [
              "<Figure size 576x396 with 1 Axes>"
            ]
          },
          "metadata": {
            "tags": []
          }
        }
      ]
    },
    {
      "cell_type": "code",
      "metadata": {
        "colab": {
          "base_uri": "https://localhost:8080/"
        },
        "id": "BpBlQjilv9eW",
        "outputId": "b17f61e6-797c-4bcb-cd23-dd47e092bbef"
      },
      "source": [
        "#To see the performance summary of the random forest classifier on unseen test dataset\n",
        "#we print the classification report\n",
        "\n",
        "target_names = ['class 0', 'class 1']\n",
        "print(classification_report(label_encoded_y_test,rf_clf_test_predictions,target_names=target_names))"
      ],
      "execution_count": null,
      "outputs": [
        {
          "output_type": "stream",
          "text": [
            "              precision    recall  f1-score   support\n",
            "\n",
            "     class 0       0.99      1.00      1.00    207935\n",
            "     class 1       0.88      0.27      0.42      1780\n",
            "\n",
            "    accuracy                           0.99    209715\n",
            "   macro avg       0.94      0.64      0.71    209715\n",
            "weighted avg       0.99      0.99      0.99    209715\n",
            "\n"
          ],
          "name": "stdout"
        }
      ]
    },
    {
      "cell_type": "markdown",
      "metadata": {
        "id": "4FiOEX_deVcW"
      },
      "source": [
        "**Parameter Tuning**"
      ]
    },
    {
      "cell_type": "markdown",
      "metadata": {
        "id": "Uv80hB-H-9tu"
      },
      "source": [
        "**Using Grid SearchCV**"
      ]
    },
    {
      "cell_type": "code",
      "metadata": {
        "id": "l57OdHqSfTc3"
      },
      "source": [
        "# from sklearn.model_selection import GridSearchCV\n",
        "\n",
        "num_estimators= [9,10,15,20]\n",
        "max_depth=[5,5.5,6,6.5,7]\n",
        "min_samples_leaf =[4.5,5,5.5,6]\n",
        "\n",
        "param_grid = dict(max_depth=max_depth, n_estimators=num_estimators, min_samples_leaf=min_samples_leaf)\n",
        "\n",
        "rfc = RandomForestClassifier(random_state=0,n_jobs=-1)\n",
        "rfc_grid = GridSearchCV(rfc, param_grid = param_grid, cv=kfold , scoring= 'roc_auc', n_jobs=-1)\n",
        "rfc_grid.fit(X_train_preprocessed,label_encoded_y_train)\n",
        "rfc_grid.best_params_"
      ],
      "execution_count": null,
      "outputs": []
    },
    {
      "cell_type": "markdown",
      "metadata": {
        "id": "4KNYjZBk_C4m"
      },
      "source": [
        "**Using Random SearchCV**"
      ]
    },
    {
      "cell_type": "code",
      "metadata": {
        "colab": {
          "base_uri": "https://localhost:8080/"
        },
        "id": "JxClAgoCtnwv",
        "outputId": "73f69948-1479-4fd9-f797-88993ce986c8"
      },
      "source": [
        "# Number of trees in random forest\n",
        "n_estimators = [int(x) for x in np.linspace(start = 10, stop = 100, num = 5)]\n",
        "\n",
        "# Maximum number of levels in tree\n",
        "max_depth = [int(x) for x in np.linspace(10, 110, num = 11)]\n",
        "\n",
        "# Minimum number of samples required to split a node\n",
        "min_samples_split = [2, 5, 10]\n",
        "# Minimum number of samples required at each leaf node\n",
        "min_samples_leaf = [1, 2, 4]\n",
        "\n",
        "# Create the random grid\n",
        "random_grid = {'n_estimators': n_estimators,\n",
        "               'max_depth': max_depth,\n",
        "               'min_samples_split': min_samples_split,\n",
        "               'min_samples_leaf': min_samples_leaf}\n",
        "print(random_grid)\n",
        "\n",
        "\n",
        "print('\\n')\n",
        "\n",
        "# Random search of parameters, using 3 fold cross validation, \n",
        "# search across 100 different combinations, and use all available cores\n",
        "rf_random_search = RandomizedSearchCV(estimator = rfc, \n",
        "                               param_distributions = random_grid, n_iter = 100, \n",
        "                               cv = 3, verbose=2, random_state=0, n_jobs = -1)\n",
        "\n",
        "\n",
        "# Fit the random search model\n",
        "rf_random_search.fit(X_train_preprocessed, label_encoded_y_train)\n",
        "\n",
        "#display best params\n",
        "rf_random_search.best_params_\n",
        "\n",
        "#get best hyperparamaters\n",
        "best_params =rf_random_search.best_params_"
      ],
      "execution_count": null,
      "outputs": [
        {
          "output_type": "stream",
          "text": [
            "{'n_estimators': [200, 400, 600, 800, 1000, 1200, 1400, 1600, 1800, 2000], 'max_features': ['auto', 'sqrt'], 'max_depth': [10, 20, 30, 40, 50, 60, 70, 80, 90, 100, 110, None], 'min_samples_split': [2, 5, 10], 'min_samples_leaf': [1, 2, 4], 'bootstrap': [True, False]}\n",
            "\n",
            "\n",
            "Fitting 3 folds for each of 100 candidates, totalling 300 fits\n"
          ],
          "name": "stdout"
        },
        {
          "output_type": "stream",
          "text": [
            "[Parallel(n_jobs=-1)]: Using backend LokyBackend with 2 concurrent workers.\n",
            "/usr/local/lib/python3.6/dist-packages/joblib/externals/loky/process_executor.py:691: UserWarning: A worker stopped while some jobs were given to the executor. This can be caused by a too short worker timeout or by a memory leak.\n",
            "  \"timeout or by a memory leak.\", UserWarning\n"
          ],
          "name": "stderr"
        }
      ]
    },
    {
      "cell_type": "code",
      "metadata": {
        "id": "PJ4SQEsZI88A"
      },
      "source": [
        "best_params= {'max_depth': 10, 'n_estimators': 20}  #'min_samples_leaf': 6, "
      ],
      "execution_count": null,
      "outputs": []
    },
    {
      "cell_type": "markdown",
      "metadata": {
        "id": "qqlZ0ijTJdmV"
      },
      "source": [
        "**Fit All training datasets using the best paramaters**"
      ]
    },
    {
      "cell_type": "code",
      "metadata": {
        "colab": {
          "base_uri": "https://localhost:8080/"
        },
        "id": "HsZmx3rueZCv",
        "outputId": "97e3cc25-f51b-49a4-bc8f-2e3df58d1c62"
      },
      "source": [
        "rfc_best_params = RandomForestClassifier(**best_params,random_state=0, n_jobs=-1)\n",
        "\n",
        "#fit on all training set\n",
        "rfc_best_params.fit(X_train_preprocessed, label_encoded_y_train)\n",
        "\n",
        "#create training and testing predictions probabilities\n",
        "rfc_best_params_train_predictions_proba = rfc_best_params.predict_proba(X_train_preprocessed)\n",
        "rfc_best_params_test_predictions_proba = rfc_best_params.predict_proba(X_test_preprocessed)\n",
        "\n",
        "#create training and testing predictions\n",
        "rfc_best_params_train_predictions= rfc_best_params.predict(X_train_preprocessed)\n",
        "rfc_best_params_test_predictions= rfc_best_params.predict(X_test_preprocessed)\n",
        "\n",
        "#calculate training and testing AUC Scores \n",
        "rfc_best_params_train_auc= roc_auc_score(label_encoded_y_train,rfc_best_params_train_predictions_proba[:,1])\n",
        "rfc_best_params_test_auc= roc_auc_score(label_encoded_y_test,rfc_best_params_test_predictions_proba[:,1])\n",
        "\n",
        "#display the training and testing AUC\n",
        "print(f\"Training AUC with Best Params: {rfc_best_params_train_auc}\")\n",
        "print(f\"Testing AUC with Best Params: {rfc_best_params_test_auc}\")\n",
        "\n",
        "#cross_val_score(tree_clf,X_train_preprocessed,label_encoded_y_train,cv=kfold, scoring='roc_auc')\n"
      ],
      "execution_count": null,
      "outputs": [
        {
          "output_type": "stream",
          "text": [
            "Training AUC with Best Params: 0.963068582382324\n",
            "Testing AUC with Best Params: 0.947888928124957\n"
          ],
          "name": "stdout"
        }
      ]
    },
    {
      "cell_type": "code",
      "metadata": {
        "colab": {
          "base_uri": "https://localhost:8080/",
          "height": 376
        },
        "id": "K-QubWOhhbMK",
        "outputId": "48d62f28-b670-4dc0-8852-ce61c00b0d05"
      },
      "source": [
        "#plot ROC Curve\n",
        "# roc curve for models\n",
        "fpr_rfc_test, tpr_rfc_test, thresh1 = roc_curve(label_encoded_y_test, rfc_best_params_test_predictions_proba[:,1], pos_label=1)\n",
        "fpr_rfc_train, tpr_rfc_train, thresh2 = roc_curve(label_encoded_y_train, rfc_best_params_train_predictions_proba[:,1], pos_label=1)\n",
        "\n",
        "# # roc curve for tpr = fpr \n",
        "# random_probs = [0 for i in range(len(label_encoded_y_test))]\n",
        "# # p_fpr, p_tpr, _ = roc_curve(label_encoded_y_test, random_probs, pos_label=1)\n",
        "\n",
        "#plot\n",
        "#plt.figure(figsize=(10,8))\n",
        "plt.plot(fpr_rfc_test, tpr_rfc_test, linestyle='--',color='orange', label='Testing AUC')\n",
        "plt.plot(fpr_rfc_train, tpr_rfc_train, linestyle='--',color='green', label='Training AUC')\n",
        "plt.plot(p_fpr, p_tpr, linestyle='--', color='blue')\n",
        "# # title\n",
        "plt.title('Random Forest with Best Paramaters ROC curve')\n",
        "# # x label\n",
        "plt.xlabel('False Positive Rate')\n",
        "# # y label\n",
        "plt.ylabel('True Positive rate')\n",
        "\n",
        "plt.legend(loc='best')\n",
        "plt.savefig('best_params_rfc_ROC',dpi=300)\n",
        "plt.show();"
      ],
      "execution_count": null,
      "outputs": [
        {
          "output_type": "display_data",
          "data": {
            "image/png": "[encoded data removed]",
            "text/plain": [
              "<Figure size 576x396 with 1 Axes>"
            ]
          },
          "metadata": {
            "tags": []
          }
        }
      ]
    },
    {
      "cell_type": "markdown",
      "metadata": {
        "id": "N8qGLaYGBYS8"
      },
      "source": [
        "**Comment** : The perfomance using the best hyperparameter is not as good as  the previous one (using the default hyperparamter) . We suspect there might be other hyperparemeters that will produce a better performance . Due to the computational limitation of our computer , We will do this as future work."
      ]
    },
    {
      "cell_type": "markdown",
      "metadata": {
        "id": "s7x12gmtGpsr"
      },
      "source": [
        "**Compare Roc_AUC Curve of all classifiers**"
      ]
    },
    {
      "cell_type": "code",
      "metadata": {
        "colab": {
          "base_uri": "https://localhost:8080/",
          "height": 512
        },
        "id": "5O2T2XKqHAa3",
        "outputId": "04ddb58e-406f-40e6-9169-6fb18b6989ae"
      },
      "source": [
        "# matplotlib\n",
        "import matplotlib.pyplot as plt\n",
        "plt.style.use('seaborn')\n",
        "plt.figure(figsize=(14,8))\n",
        "# plot roc curves\n",
        "plt.plot(fpr1, tpr1, linestyle='--',color='magenta', label='Logistic Regression')\n",
        "plt.plot(best_params_fpr_tree_test, best_params_tpr_tree_test, linestyle='--',color='orange', label='Decision Trees')\n",
        "plt.plot(fpr_xgb_test, tpr_xgb_test, linestyle='--',color='green', label='XGBoost')\n",
        "plt.plot(fpr_rfc_test, tpr_rfc_test, linestyle='--',color='red', label='Random Forest')\n",
        "plt.plot(p_fpr, p_tpr, linestyle='--', color='blue')\n",
        "# title\n",
        "plt.title('Compare ROC curve of classifiers')\n",
        "# x label\n",
        "plt.xlabel('False Positive Rate')\n",
        "# y label\n",
        "plt.ylabel('True Positive rate')\n",
        "\n",
        "plt.legend(loc='best', )\n",
        "plt.savefig('Compare_ROC',dpi=300)\n",
        "plt.show();"
      ],
      "execution_count": null,
      "outputs": [
        {
          "output_type": "display_data",
          "data": {
            "image/png": "[encoded data removed]",
            "text/plain": [
              "<Figure size 1008x576 with 1 Axes>"
            ]
          },
          "metadata": {
            "tags": []
          }
        }
      ]
    },
    {
      "cell_type": "code",
      "metadata": {
        "colab": {
          "base_uri": "https://localhost:8080/"
        },
        "id": "iF-Ho7_j7yVI",
        "outputId": "d53cc0f9-8f1a-4a67-b59f-9d0eccfb186b"
      },
      "source": [
        "!jupyter nbconvert Product_Backorder.ipynb"
      ],
      "execution_count": null,
      "outputs": [
        {
          "output_type": "stream",
          "text": [
            "[NbConvertApp] Converting notebook Product_Backorder.ipynb to html\n",
            "[NbConvertApp] Writing 1097347 bytes to Product_Backorder.html\n"
          ],
          "name": "stderr"
        }
      ]
    },
    {
      "cell_type": "code",
      "metadata": {
        "id": "0MiDRt7gL7Uh",
        "outputId": "277202ac-4da3-494d-e242-e44e553662c9"
      },
      "source": [
        "!pip install nbconvert\n"
      ],
      "execution_count": null,
      "outputs": [
        {
          "output_type": "stream",
          "text": [
            "Requirement already satisfied: nbconvert in c:\\users\\olatu\\anaconda3\\lib\\site-packages (5.4.0)\n",
            "Requirement already satisfied: mistune>=0.8.1 in c:\\users\\olatu\\anaconda3\\lib\\site-packages (from nbconvert) (0.8.4)\n",
            "Requirement already satisfied: jinja2 in c:\\users\\olatu\\anaconda3\\lib\\site-packages (from nbconvert) (2.10)\n",
            "Requirement already satisfied: pygments in c:\\users\\olatu\\anaconda3\\lib\\site-packages (from nbconvert) (2.3.1)\n",
            "Requirement already satisfied: traitlets>=4.2 in c:\\users\\olatu\\anaconda3\\lib\\site-packages (from nbconvert) (4.3.2)\n",
            "Requirement already satisfied: jupyter_core in c:\\users\\olatu\\anaconda3\\lib\\site-packages (from nbconvert) (4.4.0)\n",
            "Requirement already satisfied: nbformat>=4.4 in c:\\users\\olatu\\anaconda3\\lib\\site-packages (from nbconvert) (4.4.0)\n",
            "Requirement already satisfied: entrypoints>=0.2.2 in c:\\users\\olatu\\anaconda3\\lib\\site-packages (from nbconvert) (0.2.3)\n",
            "Requirement already satisfied: bleach in c:\\users\\olatu\\anaconda3\\lib\\site-packages (from nbconvert) (3.0.2)\n",
            "Requirement already satisfied: pandocfilters>=1.4.1 in c:\\users\\olatu\\anaconda3\\lib\\site-packages (from nbconvert) (1.4.2)\n",
            "Requirement already satisfied: testpath in c:\\users\\olatu\\anaconda3\\lib\\site-packages (from nbconvert) (0.4.2)\n",
            "Requirement already satisfied: defusedxml in c:\\users\\olatu\\anaconda3\\lib\\site-packages (from nbconvert) (0.5.0)\n",
            "Requirement already satisfied: MarkupSafe>=0.23 in c:\\users\\olatu\\anaconda3\\lib\\site-packages (from jinja2->nbconvert) (1.1.0)\n",
            "Requirement already satisfied: six in c:\\users\\olatu\\anaconda3\\lib\\site-packages (from traitlets>=4.2->nbconvert) (1.12.0)\n",
            "Requirement already satisfied: decorator in c:\\users\\olatu\\anaconda3\\lib\\site-packages (from traitlets>=4.2->nbconvert) (4.3.0)\n",
            "Requirement already satisfied: ipython-genutils in c:\\users\\olatu\\anaconda3\\lib\\site-packages (from traitlets>=4.2->nbconvert) (0.2.0)\n",
            "Requirement already satisfied: jsonschema!=2.5.0,>=2.4 in c:\\users\\olatu\\anaconda3\\lib\\site-packages (from nbformat>=4.4->nbconvert) (2.6.0)\n",
            "Requirement already satisfied: webencodings in c:\\users\\olatu\\anaconda3\\lib\\site-packages (from bleach->nbconvert) (0.5.1)\n"
          ],
          "name": "stdout"
        },
        {
          "output_type": "stream",
          "text": [
            "WARNING: You are using pip version 20.2.4; however, version 20.3.1 is available.\n",
            "You should consider upgrading via the 'c:\\users\\olatu\\anaconda3\\python.exe -m pip install --upgrade pip' command.\n"
          ],
          "name": "stderr"
        }
      ]
    },
    {
      "cell_type": "code",
      "metadata": {
        "id": "IdaB79lQAmky"
      },
      "source": [
        ""
      ],
      "execution_count": null,
      "outputs": []
    }
  ]
}